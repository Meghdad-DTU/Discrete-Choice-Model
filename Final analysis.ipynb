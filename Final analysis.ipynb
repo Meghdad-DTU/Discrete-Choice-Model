{
 "cells": [
  {
   "cell_type": "code",
   "execution_count": 1,
   "metadata": {},
   "outputs": [],
   "source": [
    "import numpy as np\n",
    "import pandas as pd\n",
    "import matplotlib.pyplot as plt\n",
    "from mpl_toolkits import mplot3d\n",
    "import geopandas as gpd\n",
    "from datetime import datetime\n",
    "import progressbar\n",
    "from mpl_toolkits.axes_grid1 import make_axes_locatable\n",
    "\n",
    "from sklearn import decomposition\n",
    "from sklearn.model_selection import train_test_split\n",
    "from sklearn.metrics import confusion_matrix,accuracy_score,roc_curve,auc, classification_report\n",
    "from sklearn.ensemble import RandomForestClassifier"
   ]
  },
  {
   "cell_type": "code",
   "execution_count": 2,
   "metadata": {},
   "outputs": [],
   "source": [
    "before_covid = pd.read_csv(\"taxi_data_2019_04_08_to_2019_04_12.csv\")\n",
    "after_covid = pd.read_csv(\"taxi_data_2020_04_01_to_2020_04_10.csv\")"
   ]
  },
  {
   "cell_type": "code",
   "execution_count": 3,
   "metadata": {},
   "outputs": [],
   "source": [
    "taxi_occ_before = pd.read_csv('taxiWithOccupiedBefore.csv')\n",
    "taxi_occ_after = pd.read_csv('taxiWithOccupiedAfter.csv')"
   ]
  },
  {
   "cell_type": "code",
   "execution_count": 4,
   "metadata": {},
   "outputs": [],
   "source": [
    "# Function to find common elements between two lists\n",
    "def common_member(a, b): \n",
    "    a_set = set(a) \n",
    "    b_set = set(b)   \n",
    "    if (a_set & b_set): \n",
    "        return(list(a_set & b_set))\n",
    "    else: \n",
    "        print(\"No common elements\")  "
   ]
  },
  {
   "cell_type": "code",
   "execution_count": 5,
   "metadata": {},
   "outputs": [
    {
     "data": {
      "text/plain": [
       "239"
      ]
     },
     "execution_count": 5,
     "metadata": {},
     "output_type": "execute_result"
    }
   ],
   "source": [
    "## common drivers before after Covid_19 with \"occupied\" status\n",
    "common_drivers = common_member(taxi_occ_before.taxiId, taxi_occ_after.taxiId)\n",
    "len(common_drivers)"
   ]
  },
  {
   "cell_type": "code",
   "execution_count": 6,
   "metadata": {},
   "outputs": [],
   "source": [
    "# trajectory ID\n",
    "def trajectory_ID():\n",
    "    ID = []\n",
    "    i=1\n",
    "    for x,y in zip(tripInd, np.append(0,tripInd[:-1])):\n",
    "        rep = x-y\n",
    "        if rep>60:\n",
    "            trip = \"TRA_\"+ str(i)\n",
    "            tripId = np.repeat(trip,rep).tolist()\n",
    "            i+=1\n",
    "        else:\n",
    "            tripId = np.repeat(\"NA\",rep).tolist()        \n",
    "        ID.extend(tripId)\n",
    "    return ID"
   ]
  },
  {
   "cell_type": "code",
   "execution_count": 36,
   "metadata": {},
   "outputs": [
    {
     "name": "stderr",
     "output_type": "stream",
     "text": [
      "100% |########################################################################|\n"
     ]
    }
   ],
   "source": [
    "# finding common drivers before & after with totall number of trips\n",
    "\"\"\"\n",
    "driver=[]\n",
    "before=[]\n",
    "after = []\n",
    "bar = progressbar.ProgressBar()\n",
    "for i in bar(range(len(common_drivers))):  \n",
    "    driver.append(common_drivers[i])\n",
    "    for DF,name in zip([before_covid,after_covid],[\"before\",\"after\"]):\n",
    "        df = DF[DF.taxi==common_drivers[i]].sort_values(by='timestamp', ascending=True).reset_index()\n",
    "        # extract trips based on status change\n",
    "        tripInd = df[df.status .shift() != df.status].index\n",
    "        tripInd = tripInd[1:]\n",
    "        tripInd = np.append(tripInd,len(df))\n",
    "        ID = trajectory_ID()\n",
    "        df[\"ID\"] = ID\n",
    "        dic = {}\n",
    "        for x in df[df.status==\"occupied\"].ID:\n",
    "            dic[x]=dic.get(x,0)+1\n",
    "        if name==\"before\":\n",
    "            before.append(len(dic))\n",
    "        else:\n",
    "            after.append(len(dic))  \n",
    "\n",
    "df = pd.DataFrame({\"driver\":driver,\"before\":before,\"after\":after})\n",
    "  \n",
    "saving the dataframe  \n",
    "df.to_csv('driverTrajBA.csv')\n",
    "\n",
    "\"\"\"            "
   ]
  },
  {
   "cell_type": "code",
   "execution_count": 7,
   "metadata": {},
   "outputs": [
    {
     "data": {
      "text/html": [
       "<div>\n",
       "<style scoped>\n",
       "    .dataframe tbody tr th:only-of-type {\n",
       "        vertical-align: middle;\n",
       "    }\n",
       "\n",
       "    .dataframe tbody tr th {\n",
       "        vertical-align: top;\n",
       "    }\n",
       "\n",
       "    .dataframe thead th {\n",
       "        text-align: right;\n",
       "    }\n",
       "</style>\n",
       "<table border=\"1\" class=\"dataframe\">\n",
       "  <thead>\n",
       "    <tr style=\"text-align: right;\">\n",
       "      <th></th>\n",
       "      <th>Unnamed: 0</th>\n",
       "      <th>driver</th>\n",
       "      <th>before</th>\n",
       "      <th>after</th>\n",
       "    </tr>\n",
       "  </thead>\n",
       "  <tbody>\n",
       "    <tr>\n",
       "      <td>0</td>\n",
       "      <td>0</td>\n",
       "      <td>Mp5S6H8</td>\n",
       "      <td>5</td>\n",
       "      <td>10</td>\n",
       "    </tr>\n",
       "    <tr>\n",
       "      <td>1</td>\n",
       "      <td>1</td>\n",
       "      <td>HPVRp9V</td>\n",
       "      <td>43</td>\n",
       "      <td>17</td>\n",
       "    </tr>\n",
       "    <tr>\n",
       "      <td>2</td>\n",
       "      <td>2</td>\n",
       "      <td>Vp5jYdi</td>\n",
       "      <td>50</td>\n",
       "      <td>24</td>\n",
       "    </tr>\n",
       "    <tr>\n",
       "      <td>3</td>\n",
       "      <td>3</td>\n",
       "      <td>yGganyi</td>\n",
       "      <td>37</td>\n",
       "      <td>104</td>\n",
       "    </tr>\n",
       "    <tr>\n",
       "      <td>4</td>\n",
       "      <td>4</td>\n",
       "      <td>MXFp4gt</td>\n",
       "      <td>5</td>\n",
       "      <td>12</td>\n",
       "    </tr>\n",
       "  </tbody>\n",
       "</table>\n",
       "</div>"
      ],
      "text/plain": [
       "   Unnamed: 0   driver  before  after\n",
       "0           0  Mp5S6H8       5     10\n",
       "1           1  HPVRp9V      43     17\n",
       "2           2  Vp5jYdi      50     24\n",
       "3           3  yGganyi      37    104\n",
       "4           4  MXFp4gt       5     12"
      ]
     },
     "execution_count": 7,
     "metadata": {},
     "output_type": "execute_result"
    }
   ],
   "source": [
    "df = pd.read_csv('driverTrajBa.csv')\n",
    "df.head()"
   ]
  },
  {
   "cell_type": "code",
   "execution_count": 9,
   "metadata": {},
   "outputs": [
    {
     "data": {
      "text/plain": [
       "47"
      ]
     },
     "execution_count": 9,
     "metadata": {},
     "output_type": "execute_result"
    }
   ],
   "source": [
    "taxiId = df[(df.before>40)&(df.after>40)].driver\n",
    "len(taxiId)"
   ]
  },
  {
   "cell_type": "code",
   "execution_count": 10,
   "metadata": {},
   "outputs": [],
   "source": [
    "def bearing(fLat,fLon,sLat,sLon):\n",
    "    #f: first & s:second\n",
    "    dL = sLon - fLon\n",
    "    X = np.cos(sLat)* np.sin(dL)\n",
    "    Y = np.cos(fLat)*np.sin(sLat) - np.sin(fLat)*np.cos(sLat)* np.cos(dL)\n",
    "    deg = np.degrees(np.arctan2(X,Y))\n",
    "    if deg <0:\n",
    "        return np.radians(180+deg)   \n",
    "    return np.radians(deg)\n",
    "\n",
    "def haversine_np(fLat, fLon, sLat, sLon):\n",
    "    fLat, fLon, sLat, sLon = map(np.radians,list(map(float, [fLat, fLon, sLat, sLon])))\n",
    "    dLon = sLon - fLon\n",
    "    dLat = sLat - fLat\n",
    "    a = np.sin(dLat/2.0)**2 + np.cos(fLat) * np.cos(sLat) * np.sin(dLon/2.0)**2\n",
    "    c = 2 * np.arcsin(np.sqrt(a))\n",
    "    m = 6367 * c * 1000\n",
    "    return m\n",
    "\n",
    "def returnAngularDisplacement(fLat, fLon, sLat, sLon):\n",
    "    #Inspired by: https://www.quora.com/How-do-I-convert-radians-per-second-to-meters-per-second\n",
    "    fLat, fLon, sLat, sLon = map(np.radians,list(map(float, [fLat, fLon, sLat, sLon])))\n",
    "    dLon = sLon - fLon\n",
    "    dLat = sLat - fLat    \n",
    "    dis = np.sqrt(dLat**2 + dLon**2)\n",
    "    return dis\n",
    "\n",
    "def returnSegmentIndexes(Ls, leng):\n",
    "    ranges = []\n",
    "    start = 0\n",
    "    while True:        \n",
    "        end = min(start+Ls, leng-1)\n",
    "        ranges.append([start, end])\n",
    "        start += Ls/2\n",
    "        if end == leng-1:\n",
    "            break        \n",
    "    return ranges\n",
    "\n",
    "def stat_features(arr):\n",
    "    n,m = arr.shape\n",
    "    statMat = np.zeros((7,m))\n",
    "    statMat[0,:] = arr.mean(axis=0)\n",
    "    statMat[1,:] = arr.min(axis=0)\n",
    "    statMat[2,:] = arr.max(axis=0)\n",
    "    statMat[3,:] = np.quantile(arr,0.25,axis=0)\n",
    "    statMat[4,:] = np.quantile(arr,0.50,axis=0)\n",
    "    statMat[5,:] = np.quantile(arr,0.75,axis=0)\n",
    "    statMat[6,:] = arr.std(axis=0)\n",
    "    return statMat.T.flatten()\n",
    "\n",
    "def normalizeStatFeatureMatrix(statisticalFeatureMatrix, minimum=0, maximum=40):\n",
    "    r = float(maximum-minimum)\n",
    "    mins = statisticalFeatureMatrix.min((0, 1))\n",
    "    maxs = statisticalFeatureMatrix.max((0, 1))    \n",
    "    statisticalFeatureMatrix = np.nan_to_num(minimum + ((statisticalFeatureMatrix-mins)/(maxs-mins))*r)\n",
    "    return statisticalFeatureMatrix\n",
    "\n",
    "## Receiver operating characteristic (ROC) plot\n",
    "def ROC (tpr,fpr,roc_auc):\n",
    "    plt.plot(tpr, fpr, color='r',label='ROC curve (area = %0.3f)' % roc_auc)\n",
    "    plt.plot([0, 1], [0, 1], color='navy', linestyle='--')\n",
    "    plt.xlim([-0.01,1.01]); plt.ylim([-0.01,1.01])\n",
    "    plt.xticks(np.arange(0,1.1,.1)); plt.yticks(np.arange(0,1.1,.1))\n",
    "    plt.xlabel('False positive rate (1-Specificity)')\n",
    "    plt.ylabel('True positive rate (Sensitivity)')\n",
    "    plt.legend(loc=\"lower right\")\n",
    "    plt.grid()\n",
    "\n",
    "## confusion matrix plot\n",
    "def plot_cm(y_test, y_est):\n",
    "    cm = confusion_matrix(y_test, y_est);\n",
    "    accuracy = np.round(100*cm.diagonal().sum()/cm.sum(),2); error_rate = np.round(100-accuracy,2)\n",
    "    plt.imshow(cm, cmap='binary', interpolation='None')\n",
    "    plt.colorbar()\n",
    "    plt.xlabel('Predicted class'); plt.ylabel('Actual class');\n",
    "    plt.title('Confusion matrix (Accuracy: {0}%, Error Rate: {1}%)'.format(accuracy, error_rate));"
   ]
  },
  {
   "cell_type": "code",
   "execution_count": 11,
   "metadata": {},
   "outputs": [],
   "source": [
    "def driving_style_extract(driverList,DF,Ls=30,Lf=4):\n",
    "    data = pd.DataFrame()\n",
    "    bar = progressbar.ProgressBar()\n",
    "    for driver in bar(driverList):\n",
    "        df = DF[DF.taxi==driver].sort_values(by='timestamp', ascending=True).reset_index()\n",
    "        df = df.loc[:,[\"timestamp\",\"taxi\",\"lat\",\"lon\",\"status\",\"speed\",\"azimuth\"]]\n",
    "        # extract trips based on status change\n",
    "        tripInd = df[df.status .shift() != df.status].index\n",
    "        tripInd = tripInd[1:]\n",
    "        tripInd = np.append(tripInd,len(df))\n",
    "        \n",
    "        # trajectory ID\n",
    "        ID = []\n",
    "        i=1\n",
    "        for x,y in zip(tripInd, np.append(0,tripInd[:-1])):\n",
    "            rep = x-y\n",
    "            # more than 5 mins is considered as Trip trajectory\n",
    "            if rep>60:\n",
    "                trip = \"TRA_\"+ str(i)\n",
    "                tripId = np.repeat(trip,rep).tolist()\n",
    "                i+=1\n",
    "            else:\n",
    "                tripId = np.repeat(\"NA\",rep).tolist()        \n",
    "            ID.extend(tripId)    \n",
    "        df[\"ID\"]=ID\n",
    "        data = data.append(df)    \n",
    "    print(\"dataset is created\")\n",
    "    \n",
    "    bar = progressbar.ProgressBar()\n",
    "    IDs = np.unique(data.ID)\n",
    "    trajectory = {}\n",
    "    for Id in bar(IDs):\n",
    "        for driver in driverList:\n",
    "            key=driver+\"|\"+Id\n",
    "            sub_df = data[(data.taxi==driver)&\n",
    "                          (data.ID==Id)&\n",
    "                          (data.status==\"occupied\")&\n",
    "                          (data.ID!=\"NA\")]\n",
    "            if len(sub_df)!=0:\n",
    "                sub_dict={}\n",
    "                sub_dict[\"Timestamp\"]=sub_df.timestamp\n",
    "                sub_dict[\"Lat\"]=sub_df.lat\n",
    "                sub_dict[\"Lon\"]=sub_df.lon            \n",
    "                trajectory[key]= sub_dict    \n",
    "    print(\"Trajectory is created\")\n",
    "    \n",
    "    bar = progressbar.ProgressBar()\n",
    "    basicFeatures={} \n",
    "    for k,v in bar(trajectory.items()):\n",
    "        traj = []\n",
    "        lastSpeedNorm = lastAccelNorm = lastDirection = -1\n",
    "        lastLatSpeed = lastLngSpeed = 0\n",
    "        for i in range(1, len(v[\"Timestamp\"])):       \n",
    "            dist = haversine_np(v[\"Lat\"].values[i-1],v[\"Lon\"].values[i-1],v[\"Lat\"].values[i],v[\"Lon\"].values[i])\n",
    "            dt = v[\"Timestamp\"].values[i]-v[\"Timestamp\"].values[i-1]\n",
    "            speedNorm = dist/dt\n",
    "        \n",
    "            diffSpeedNorm = 0\n",
    "            if lastSpeedNorm > -1:\n",
    "                diffSpeedNorm = speedNorm - lastSpeedNorm\n",
    "                \n",
    "            latSpeed = np.abs(v[\"Lat\"].values[i]-v[\"Lat\"].values[i-1])\n",
    "            lngSpeed = np.abs(v[\"Lon\"].values[i]-v[\"Lon\"].values[i-1])\n",
    "        \n",
    "            accelNorm = np.sqrt((latSpeed - lastLatSpeed)**2 + (lngSpeed - lastLngSpeed)**2)/dt\n",
    "            \n",
    "            diffAccelNorm = 0\n",
    "            if lastAccelNorm > -1:\n",
    "                diffAccelNorm = accelNorm - lastAccelNorm\n",
    "            \n",
    "            angularSpeed = returnAngularDisplacement(v[\"Lat\"].values[i-1], v[\"Lon\"].values[i-1],\n",
    "                                                     v[\"Lat\"].values[i], v[\"Lon\"].values[i])\n",
    "        \n",
    "            direction = bearing(v[\"Lat\"].values[i-1], v[\"Lon\"].values[i-1],\n",
    "                                v[\"Lat\"].values[i], v[\"Lon\"].values[i])\n",
    "            diffDirection = 0\n",
    "            if lastDirection > -1:\n",
    "                diffDirection = direction - lastDirection\n",
    "             \n",
    "            lastSpeedNorm = speedNorm\n",
    "            lastAccelNorm = accelNorm\n",
    "            lastDirection = direction\n",
    "            lastLatSpeed = latSpeed\n",
    "            lastLngSpeed = lngSpeed\n",
    "            traj.append([speedNorm, diffSpeedNorm, accelNorm, diffAccelNorm, angularSpeed, direction, diffDirection])        \n",
    "        basicFeatures[k] = traj\n",
    "    print('Basic Features are created!')\n",
    "    \n",
    "    name = list(basicFeatures.keys())[0]    \n",
    "    _ ,N = np.asarray(basicFeatures[name]).shape\n",
    "\n",
    "    \n",
    "    bar = progressbar.ProgressBar()\n",
    "    statisticalFeatureMatrix = {}\n",
    "    for t in bar(basicFeatures):\n",
    "        print('processing', t)\n",
    "        matricesForTrajectory = []\n",
    "        traj= basicFeatures[t]\n",
    "        ranges = returnSegmentIndexes(Ls, len(traj))        \n",
    "    \n",
    "        j = 0\n",
    "        matrixForTrajectory = np.zeros((len(ranges),int(Ls/Lf*2+1),7*N))\n",
    "        for p in ranges:\n",
    "            if p[1] - p[0] < Ls:\n",
    "                continue # because we want the lenght of intervals equal to Ls not less not more\n",
    "            sub_p = int(Ls/Lf*2)\n",
    "            matrixForSegment = np.empty((sub_p+1, 7*N))\n",
    "            matrixForSegment[0, :] = np.zeros((7*N,))\n",
    "        #st = p[0]\n",
    "            sub_ranges = returnSegmentIndexes(Lf, Ls+2)\n",
    "            i=1\n",
    "            for sp in sub_ranges:\n",
    "                if (sp[1] - sp[0])%2 !=0:\n",
    "                    sp[1] = Ls\n",
    "                matrixForSegment[i,]=stat_features(np.asarray(traj)[int(p[0]+sp[0]):int(p[0]+sp[1])])\n",
    "                matrixForTrajectory[j,] = matrixForSegment\n",
    "                i+=1\n",
    "            matrixForTrajectory[j,] = normalizeStatFeatureMatrix(matrixForTrajectory[j,])\n",
    "            j+=1\n",
    "    \n",
    "        statisticalFeatureMatrix[t]=matrixForTrajectory\n",
    "    print(\"statistical features created\")\n",
    "    \n",
    "    my_mat=np.zeros((1,7*N))\n",
    "    ID = []\n",
    "    for k,v in statisticalFeatureMatrix.items():\n",
    "    #print(k.split(\"|\")[0])\n",
    "        drv_id = np.where(driverList==k.split(\"|\")[0])[0]\n",
    "        N = statisticalFeatureMatrix[k].shape[0] \n",
    "        for n in range(N):\n",
    "            row_to_be_added=statisticalFeatureMatrix[k][n]\n",
    "            #print(len(row_to_be_added))\n",
    "            my_mat = np.vstack ((my_mat,row_to_be_added))\n",
    "            ID.extend(np.repeat(drv_id,Ls/(Lf/2)+1))   \n",
    "    assert len(ID) == my_mat[1:].shape[0], 'might be related to Ls or Lf'\n",
    "    \n",
    "    driving_style = np.hstack(((np.asarray(ID).reshape(-1,1)) ,my_mat[1:]))     \n",
    "    \n",
    "    return driving_style"
   ]
  },
  {
   "cell_type": "code",
   "execution_count": 12,
   "metadata": {},
   "outputs": [
    {
     "name": "stderr",
     "output_type": "stream",
     "text": [
      "100% |########################################################################|\n"
     ]
    },
    {
     "name": "stdout",
     "output_type": "stream",
     "text": [
      "dataset is created\n"
     ]
    },
    {
     "name": "stderr",
     "output_type": "stream",
     "text": [
      "100% |########################################################################|\n",
      "  1% |                                                                        |\r"
     ]
    },
    {
     "name": "stdout",
     "output_type": "stream",
     "text": [
      "Trajectory is created\n"
     ]
    },
    {
     "name": "stderr",
     "output_type": "stream",
     "text": [
      "100% |########################################################################|\n",
      "  0% |                                                                        |\r"
     ]
    },
    {
     "name": "stdout",
     "output_type": "stream",
     "text": [
      "Basic Features are created!\n",
      "processing KFtJTbD|TRA_1\n",
      "processing 6TtKp9w|TRA_1\n",
      "processing fztYnDT|TRA_10\n",
      "processing KFtJTbD|TRA_100\n"
     ]
    },
    {
     "name": "stderr",
     "output_type": "stream",
     "text": [
      "C:\\Users\\Meghdad\\Anaconda3\\lib\\site-packages\\ipykernel_launcher.py:55: RuntimeWarning: invalid value encountered in true_divide\n",
      "  1% |                                                                        |\r"
     ]
    },
    {
     "name": "stdout",
     "output_type": "stream",
     "text": [
      "processing UWVYPct|TRA_100\n",
      "processing 6TtKp9w|TRA_100\n",
      "processing LREHkrn|TRA_100\n",
      "processing TXHA2Zu|TRA_100\n",
      "processing WMxqiTT|TRA_100\n",
      "processing dteMuWC|TRA_101\n",
      "processing 54KfVz7|TRA_101\n",
      "processing UWVYPct|TRA_102\n"
     ]
    },
    {
     "name": "stderr",
     "output_type": "stream",
     "text": [
      "  2% |#                                                                       |\r"
     ]
    },
    {
     "name": "stdout",
     "output_type": "stream",
     "text": [
      "processing LREHkrn|TRA_102\n",
      "processing TXHA2Zu|TRA_102\n",
      "processing 54KfVz7|TRA_102\n",
      "processing KFtJTbD|TRA_103\n"
     ]
    },
    {
     "name": "stderr",
     "output_type": "stream",
     "text": [
      "  3% |##                                                                      |\r"
     ]
    },
    {
     "name": "stdout",
     "output_type": "stream",
     "text": [
      "processing UWVYPct|TRA_103\n",
      "processing 6TtKp9w|TRA_103\n",
      "processing dteMuWC|TRA_103\n",
      "processing WMxqiTT|TRA_103\n",
      "processing UWVYPct|TRA_104\n",
      "processing TXHA2Zu|TRA_104\n",
      "processing "
     ]
    },
    {
     "name": "stderr",
     "output_type": "stream",
     "text": [
      "  4% |###                                                                     |\r"
     ]
    },
    {
     "name": "stdout",
     "output_type": "stream",
     "text": [
      "6TtKp9w|TRA_105\n",
      "processing LREHkrn|TRA_105\n",
      "processing WMxqiTT|TRA_105\n",
      "processing 54KfVz7|TRA_105\n",
      "processing UWVYPct|TRA_106\n",
      "processing TXHA2Zu|TRA_106\n",
      "processing 6TtKp9w|TRA_107\n",
      "processing LREHkrn|TRA_107\n"
     ]
    },
    {
     "name": "stderr",
     "output_type": "stream",
     "text": [
      "  5% |###                                                                     |\r"
     ]
    },
    {
     "name": "stdout",
     "output_type": "stream",
     "text": [
      "processing WMxqiTT|TRA_107\n",
      "processing UWVYPct|TRA_108\n",
      "processing TXHA2Zu|TRA_108\n",
      "processing 54KfVz7|TRA_108\n",
      "processing 6TtKp9w|TRA_109\n",
      "processing WMxqiTT|TRA_109\n"
     ]
    },
    {
     "name": "stderr",
     "output_type": "stream",
     "text": [
      "  6% |####                                                                    |\r"
     ]
    },
    {
     "name": "stdout",
     "output_type": "stream",
     "text": [
      "processing KFtJTbD|TRA_11\n",
      "processing UWVYPct|TRA_11\n",
      "processing 6TtKp9w|TRA_11\n",
      "processing LREHkrn|TRA_11\n",
      "processing fztYnDT|TRA_11\n"
     ]
    },
    {
     "name": "stderr",
     "output_type": "stream",
     "text": [
      "  7% |#####                                                                   |\r"
     ]
    },
    {
     "name": "stdout",
     "output_type": "stream",
     "text": [
      "processing WMxqiTT|TRA_11\n",
      "processing 54KfVz7|TRA_11\n",
      "processing UWVYPct|TRA_110\n"
     ]
    },
    {
     "name": "stderr",
     "output_type": "stream",
     "text": [
      "  8% |######                                                                  |\r"
     ]
    },
    {
     "name": "stdout",
     "output_type": "stream",
     "text": [
      "processing TXHA2Zu|TRA_110\n",
      "processing 54KfVz7|TRA_110\n",
      "processing UWVYPct|TRA_112\n",
      "processing 6TtKp9w|TRA_112\n",
      "processing TXHA2Zu|TRA_112\n",
      "processing WMxqiTT|TRA_112\n",
      "processing WMxqiTT|TRA_113\n",
      "processing 54KfVz7|TRA_113\n",
      "processing UWVYPct|TRA_114\n"
     ]
    },
    {
     "name": "stderr",
     "output_type": "stream",
     "text": [
      "  9% |######                                                                  |\r"
     ]
    },
    {
     "name": "stdout",
     "output_type": "stream",
     "text": [
      "processing 6TtKp9w|TRA_114\n",
      "processing TXHA2Zu|TRA_114\n",
      "processing 54KfVz7|TRA_114\n",
      "processing TXHA2Zu|TRA_115\n"
     ]
    },
    {
     "name": "stderr",
     "output_type": "stream",
     "text": [
      " 10% |#######                                                                 |\r"
     ]
    },
    {
     "name": "stdout",
     "output_type": "stream",
     "text": [
      "processing WMxqiTT|TRA_115\n",
      "processing 54KfVz7|TRA_115\n",
      "processing UWVYPct|TRA_117\n",
      "processing 6TtKp9w|TRA_117\n",
      "processing TXHA2Zu|TRA_117\n"
     ]
    },
    {
     "name": "stderr",
     "output_type": "stream",
     "text": [
      " 11% |########                                                                |\r"
     ]
    },
    {
     "name": "stdout",
     "output_type": "stream",
     "text": [
      "processing WMxqiTT|TRA_117\n",
      "processing 6TtKp9w|TRA_118\n",
      "processing UWVYPct|TRA_119\n",
      "processing 6TtKp9w|TRA_119\n",
      "processing WMxqiTT|TRA_119\n",
      "processing 54KfVz7|TRA_119\n",
      "processing UWVYPct|TRA_12\n",
      "processing TXHA2Zu|TRA_12\n",
      "processing dteMuWC|TRA_12\n",
      "processing 4rGdkfj|TRA_12\n"
     ]
    },
    {
     "name": "stderr",
     "output_type": "stream",
     "text": [
      " 12% |#########                                                               |\r"
     ]
    },
    {
     "name": "stdout",
     "output_type": "stream",
     "text": [
      "processing UWVYPct|TRA_120\n",
      "processing TXHA2Zu|TRA_120\n",
      "processing WMxqiTT|TRA_120\n",
      "processing 6TtKp9w|TRA_121\n"
     ]
    },
    {
     "name": "stderr",
     "output_type": "stream",
     "text": [
      " 13% |#########                                                               |\r"
     ]
    },
    {
     "name": "stdout",
     "output_type": "stream",
     "text": [
      "processing 54KfVz7|TRA_121\n",
      "processing UWVYPct|TRA_122\n",
      "processing TXHA2Zu|TRA_122\n",
      "processing WMxqiTT|TRA_122\n",
      "processing 6TtKp9w|TRA_123\n",
      "processing TXHA2Zu|TRA_123\n",
      "processing WMxqiTT|TRA_123\n",
      "processing 54KfVz7|TRA_123\n"
     ]
    },
    {
     "name": "stderr",
     "output_type": "stream",
     "text": [
      " 14% |##########                                                              |\r"
     ]
    },
    {
     "name": "stdout",
     "output_type": "stream",
     "text": [
      "processing UWVYPct|TRA_124\n",
      "processing UWVYPct|TRA_125\n",
      "processing 6TtKp9w|TRA_125\n",
      "processing TXHA2Zu|TRA_125\n",
      "processing UWVYPct|TRA_127\n"
     ]
    },
    {
     "name": "stderr",
     "output_type": "stream",
     "text": [
      " 15% |###########                                                             |\r"
     ]
    },
    {
     "name": "stdout",
     "output_type": "stream",
     "text": [
      "processing 6TtKp9w|TRA_127\n",
      "processing TXHA2Zu|TRA_127\n",
      "processing UWVYPct|TRA_128\n",
      "processing UWVYPct|TRA_129\n",
      "processing 6TtKp9w|TRA_129\n",
      "processing TXHA2Zu|TRA_129\n",
      "processing KFtJTbD|TRA_13\n"
     ]
    },
    {
     "name": "stderr",
     "output_type": "stream",
     "text": [
      " 17% |############                                                            |\r"
     ]
    },
    {
     "name": "stdout",
     "output_type": "stream",
     "text": [
      "processing 6TtKp9w|TRA_13\n",
      "processing LREHkrn|TRA_13\n",
      "processing fztYnDT|TRA_13\n",
      "processing 4rGdkfj|TRA_13\n",
      "processing WMxqiTT|TRA_13\n",
      "processing"
     ]
    },
    {
     "name": "stderr",
     "output_type": "stream",
     "text": [
      " 18% |#############                                                           |\r"
     ]
    },
    {
     "name": "stdout",
     "output_type": "stream",
     "text": [
      " 54KfVz7|TRA_13\n",
      "processing UWVYPct|TRA_131\n",
      "processing TXHA2Zu|TRA_131\n",
      "processing 6TtKp9w|TRA_132\n",
      "processing TXHA2Zu|TRA_133\n",
      "processing"
     ]
    },
    {
     "name": "stderr",
     "output_type": "stream",
     "text": [
      " 19% |#############                                                           |\r"
     ]
    },
    {
     "name": "stdout",
     "output_type": "stream",
     "text": [
      " 6TtKp9w|TRA_134\n",
      "processing 6TtKp9w|TRA_136\n",
      "processing TXHA2Zu|TRA_137\n",
      "processing 6TtKp9w|TRA_138\n",
      "processing UWVYPct|TRA_14\n",
      "processing TXHA2Zu|TRA_14\n",
      "processing fztYnDT|TRA_14\n",
      "processing dteMuWC|TRA_14\n"
     ]
    },
    {
     "name": "stderr",
     "output_type": "stream",
     "text": [
      " 20% |##############                                                          |\r"
     ]
    },
    {
     "name": "stdout",
     "output_type": "stream",
     "text": [
      "processing 6TtKp9w|TRA_141\n",
      "processing TXHA2Zu|TRA_141\n",
      "processing 6TtKp9w|TRA_143\n",
      "processing TXHA2Zu|TRA_143\n",
      "processing 6TtKp9w|TRA_145\n",
      "processing 6TtKp9w|TRA_147\n"
     ]
    },
    {
     "name": "stderr",
     "output_type": "stream",
     "text": [
      " 21% |###############                                                         |\r"
     ]
    },
    {
     "name": "stdout",
     "output_type": "stream",
     "text": [
      "processing KFtJTbD|TRA_15\n",
      "processing 6TtKp9w|TRA_15\n",
      "processing LREHkrn|TRA_15\n",
      "processing 4rGdkfj|TRA_15\n",
      "processing 6TtKp9w|TRA_150\n"
     ]
    },
    {
     "name": "stderr",
     "output_type": "stream",
     "text": [
      " 22% |################                                                        |\r"
     ]
    },
    {
     "name": "stdout",
     "output_type": "stream",
     "text": [
      "processing 6TtKp9w|TRA_151\n",
      "processing 6TtKp9w|TRA_153\n",
      "processing 6TtKp9w|TRA_156\n",
      "processing UWVYPct|TRA_16\n",
      "processing 6TtKp9w|TRA_16\n"
     ]
    },
    {
     "name": "stderr",
     "output_type": "stream",
     "text": [
      " 23% |################                                                        |\r"
     ]
    },
    {
     "name": "stdout",
     "output_type": "stream",
     "text": [
      "processing TXHA2Zu|TRA_16\n",
      "processing fztYnDT|TRA_16\n",
      "processing dteMuWC|TRA_16\n",
      "processing 4rGdkfj|TRA_16\n"
     ]
    },
    {
     "name": "stderr",
     "output_type": "stream",
     "text": [
      " 24% |#################                                                       |\r"
     ]
    },
    {
     "name": "stdout",
     "output_type": "stream",
     "text": [
      "processing 54KfVz7|TRA_16\n",
      "processing 6TtKp9w|TRA_161\n",
      "processing 6TtKp9w|TRA_163\n",
      "processing 6TtKp9w|TRA_166\n",
      "processing 6TtKp9w|TRA_168\n",
      "processing KFtJTbD|TRA_17\n",
      "processing UWVYPct|TRA_17\n",
      "processing 6TtKp9w|TRA_17\n"
     ]
    },
    {
     "name": "stderr",
     "output_type": "stream",
     "text": [
      " 25% |##################                                                      |\r"
     ]
    },
    {
     "name": "stdout",
     "output_type": "stream",
     "text": [
      "processing LREHkrn|TRA_17\n",
      "processing dteMuWC|TRA_17\n",
      "processing WMxqiTT|TRA_17\n",
      "processing 6TtKp9w|TRA_171\n",
      "processing KFtJTbD|TRA_18\n",
      "processing UWVYPct|TRA_18\n",
      "processing 6TtKp9w|TRA_18\n",
      "processing fztYnDT|TRA_18\n"
     ]
    },
    {
     "name": "stderr",
     "output_type": "stream",
     "text": [
      " 26% |###################                                                     |\r"
     ]
    },
    {
     "name": "stdout",
     "output_type": "stream",
     "text": [
      "processing 4rGdkfj|TRA_18\n",
      "processing WMxqiTT|TRA_18\n",
      "processing 54KfVz7|TRA_18\n",
      "processing LREHkrn|TRA_19\n",
      "processing fztYnDT|TRA_19\n",
      "processing 4rGdkfj|TRA_19\n"
     ]
    },
    {
     "name": "stderr",
     "output_type": "stream",
     "text": [
      " 27% |###################                                                     |\r"
     ]
    },
    {
     "name": "stdout",
     "output_type": "stream",
     "text": [
      "processing KFtJTbD|TRA_2\n",
      "processing UWVYPct|TRA_2\n",
      "processing LREHkrn|TRA_2\n",
      "processing TXHA2Zu|TRA_2\n",
      "processing fztYnDT|TRA_2\n",
      "processing dteMuWC|TRA_2\n"
     ]
    },
    {
     "name": "stderr",
     "output_type": "stream",
     "text": [
      " 28% |####################                                                    |\r"
     ]
    },
    {
     "name": "stdout",
     "output_type": "stream",
     "text": [
      "processing WMxqiTT|TRA_2\n",
      "processing 54KfVz7|TRA_2\n",
      "processing KFtJTbD|TRA_20\n",
      "processing UWVYPct|TRA_20\n"
     ]
    },
    {
     "name": "stderr",
     "output_type": "stream",
     "text": [
      " 29% |#####################                                                   |\r"
     ]
    },
    {
     "name": "stdout",
     "output_type": "stream",
     "text": [
      "processing 6TtKp9w|TRA_20\n",
      "processing fztYnDT|TRA_20\n",
      "processing WMxqiTT|TRA_20\n"
     ]
    },
    {
     "name": "stderr",
     "output_type": "stream",
     "text": [
      " 30% |######################                                                  |\r"
     ]
    },
    {
     "name": "stdout",
     "output_type": "stream",
     "text": [
      "processing 54KfVz7|TRA_20\n",
      "processing KFtJTbD|TRA_21\n",
      "processing LREHkrn|TRA_21\n",
      "processing TXHA2Zu|TRA_21\n",
      "processing dteMuWC|TRA_21\n",
      "processing 4rGdkfj|TRA_21\n",
      "processing KFtJTbD|TRA_22\n",
      "processing UWVYPct|TRA_22\n",
      "processing 6TtKp9w|TRA_22\n",
      "processing fztYnDT|TRA_22\n"
     ]
    },
    {
     "name": "stderr",
     "output_type": "stream",
     "text": [
      " 31% |######################                                                  |\r"
     ]
    },
    {
     "name": "stdout",
     "output_type": "stream",
     "text": [
      "processing WMxqiTT|TRA_22\n",
      "processing 54KfVz7|TRA_22\n",
      "processing KFtJTbD|TRA_23\n",
      "processing LREHkrn|TRA_23\n",
      "processing TXHA2Zu|TRA_23\n",
      "processing 4rGdkfj|TRA_23\n",
      "processing UWVYPct|TRA_24\n"
     ]
    },
    {
     "name": "stderr",
     "output_type": "stream",
     "text": [
      " 32% |#######################                                                 |\r"
     ]
    },
    {
     "name": "stdout",
     "output_type": "stream",
     "text": [
      "processing 6TtKp9w|TRA_24\n",
      "processing LREHkrn|TRA_24\n",
      "processing dteMuWC|TRA_24\n"
     ]
    },
    {
     "name": "stderr",
     "output_type": "stream",
     "text": [
      " 34% |########################                                                |\r"
     ]
    },
    {
     "name": "stdout",
     "output_type": "stream",
     "text": [
      "processing 54KfVz7|TRA_24\n",
      "processing TXHA2Zu|TRA_25\n",
      "processing fztYnDT|TRA_25\n",
      "processing 4rGdkfj|TRA_25\n",
      "processing KFtJTbD|TRA_26\n",
      "processing UWVYPct|TRA_26\n",
      "processing 6TtKp9w|TRA_26\n",
      "processing LREHkrn|TRA_26\n",
      "processing fztYnDT|TRA_26\n"
     ]
    },
    {
     "name": "stderr",
     "output_type": "stream",
     "text": [
      " 35% |#########################                                               |\r"
     ]
    },
    {
     "name": "stdout",
     "output_type": "stream",
     "text": [
      "processing dteMuWC|TRA_26\n",
      "processing 4rGdkfj|TRA_26\n",
      "processing KFtJTbD|TRA_27\n"
     ]
    },
    {
     "name": "stderr",
     "output_type": "stream",
     "text": [
      " 36% |##########################                                              |\r"
     ]
    },
    {
     "name": "stdout",
     "output_type": "stream",
     "text": [
      "processing 6TtKp9w|TRA_27\n",
      "processing LREHkrn|TRA_27\n",
      "processing TXHA2Zu|TRA_27\n",
      "processing 54KfVz7|TRA_27\n",
      "processing LREHkrn|TRA_28\n",
      "processing fztYnDT|TRA_28\n",
      "processing dteMuWC|TRA_28\n"
     ]
    },
    {
     "name": "stderr",
     "output_type": "stream",
     "text": [
      " 37% |##########################                                              |\r"
     ]
    },
    {
     "name": "stdout",
     "output_type": "stream",
     "text": [
      "processing 4rGdkfj|TRA_28\n",
      "processing WMxqiTT|TRA_28\n",
      "processing 54KfVz7|TRA_28\n",
      "processing KFtJTbD|TRA_29\n",
      "processing UWVYPct|TRA_29\n",
      "processing TXHA2Zu|TRA_29\n"
     ]
    },
    {
     "name": "stderr",
     "output_type": "stream",
     "text": [
      " 38% |###########################                                             |\r"
     ]
    },
    {
     "name": "stdout",
     "output_type": "stream",
     "text": [
      "processing WMxqiTT|TRA_29\n",
      "processing KFtJTbD|TRA_3\n",
      "processing 6TtKp9w|TRA_3\n",
      "processing fztYnDT|TRA_3\n",
      "processing WMxqiTT|TRA_3\n"
     ]
    },
    {
     "name": "stderr",
     "output_type": "stream",
     "text": [
      " 39% |############################                                            |\r"
     ]
    },
    {
     "name": "stdout",
     "output_type": "stream",
     "text": [
      "processing 54KfVz7|TRA_3\n",
      "processing 6TtKp9w|TRA_30\n",
      "processing fztYnDT|TRA_30\n",
      "processing dteMuWC|TRA_30\n",
      "processing KFtJTbD|TRA_31\n",
      "processing UWVYPct|TRA_31\n",
      "processing TXHA2Zu|TRA_31\n",
      "processing fztYnDT|TRA_31\n"
     ]
    },
    {
     "name": "stderr",
     "output_type": "stream",
     "text": [
      " 40% |#############################                                           |\r"
     ]
    },
    {
     "name": "stdout",
     "output_type": "stream",
     "text": [
      "processing WMxqiTT|TRA_31\n",
      "processing UWVYPct|TRA_32\n",
      "processing 6TtKp9w|TRA_32\n",
      "processing LREHkrn|TRA_32\n",
      "processing TXHA2Zu|TRA_32\n",
      "processing dteMuWC|TRA_32\n"
     ]
    },
    {
     "name": "stderr",
     "output_type": "stream",
     "text": [
      " 41% |#############################                                           |\r"
     ]
    },
    {
     "name": "stdout",
     "output_type": "stream",
     "text": [
      "processing 4rGdkfj|TRA_32\n",
      "processing 54KfVz7|TRA_32\n",
      "processing UWVYPct|TRA_33\n",
      "processing 4rGdkfj|TRA_33\n",
      "processing WMxqiTT|TRA_33\n",
      "processing KFtJTbD|TRA_34\n",
      "processing 6TtKp9w|TRA_34\n"
     ]
    },
    {
     "name": "stderr",
     "output_type": "stream",
     "text": [
      " 42% |##############################                                          |\r"
     ]
    },
    {
     "name": "stdout",
     "output_type": "stream",
     "text": [
      "processing fztYnDT|TRA_34\n",
      "processing dteMuWC|TRA_34\n",
      "processing UWVYPct|TRA_35\n",
      "processing LREHkrn|TRA_35\n",
      "processing fztYnDT|TRA_35\n"
     ]
    },
    {
     "name": "stderr",
     "output_type": "stream",
     "text": [
      " 43% |###############################                                         |\r"
     ]
    },
    {
     "name": "stdout",
     "output_type": "stream",
     "text": [
      "processing 4rGdkfj|TRA_35\n",
      "processing 54KfVz7|TRA_35\n",
      "processing KFtJTbD|TRA_36\n",
      "processing 6TtKp9w|TRA_36\n",
      "processing TXHA2Zu|TRA_36\n",
      "processing fztYnDT|TRA_36\n"
     ]
    },
    {
     "name": "stderr",
     "output_type": "stream",
     "text": [
      " 44% |################################                                        |\r"
     ]
    },
    {
     "name": "stdout",
     "output_type": "stream",
     "text": [
      "processing dteMuWC|TRA_36\n",
      "processing UWVYPct|TRA_37\n",
      "processing LREHkrn|TRA_37\n",
      "processing 4rGdkfj|TRA_37\n",
      "processing 6TtKp9w|TRA_38\n",
      "processing fztYnDT|TRA_38\n"
     ]
    },
    {
     "name": "stderr",
     "output_type": "stream",
     "text": [
      " 45% |################################                                        |\r"
     ]
    },
    {
     "name": "stdout",
     "output_type": "stream",
     "text": [
      "processing dteMuWC|TRA_38\n",
      "processing 54KfVz7|TRA_38\n",
      "processing UWVYPct|TRA_39\n",
      "processing TXHA2Zu|TRA_39\n",
      "processing WMxqiTT|TRA_39\n",
      "processing LREHkrn|TRA_4\n",
      "processing TXHA2Zu|TRA_4\n"
     ]
    },
    {
     "name": "stderr",
     "output_type": "stream",
     "text": [
      " 46% |#################################                                       |\r"
     ]
    },
    {
     "name": "stdout",
     "output_type": "stream",
     "text": [
      "processing dteMuWC|TRA_4\n",
      "processing 4rGdkfj|TRA_4\n",
      "processing 54KfVz7|TRA_4\n",
      "processing KFtJTbD|TRA_40\n",
      "processing UWVYPct|TRA_40\n",
      "processing LREHkrn|TRA_40\n"
     ]
    },
    {
     "name": "stderr",
     "output_type": "stream",
     "text": [
      " 47% |##################################                                      |\r"
     ]
    },
    {
     "name": "stdout",
     "output_type": "stream",
     "text": [
      "processing TXHA2Zu|TRA_40\n",
      "processing fztYnDT|TRA_40\n"
     ]
    },
    {
     "name": "stderr",
     "output_type": "stream",
     "text": [
      " 48% |###################################                                     |\r"
     ]
    },
    {
     "name": "stdout",
     "output_type": "stream",
     "text": [
      "processing dteMuWC|TRA_40\n",
      "processing 54KfVz7|TRA_40\n",
      "processing WMxqiTT|TRA_41\n",
      "processing KFtJTbD|TRA_42\n",
      "processing UWVYPct|TRA_42\n"
     ]
    },
    {
     "name": "stderr",
     "output_type": "stream",
     "text": [
      " 50% |####################################                                    |\r"
     ]
    },
    {
     "name": "stdout",
     "output_type": "stream",
     "text": [
      "processing 6TtKp9w|TRA_42\n",
      "processing TXHA2Zu|TRA_42\n",
      "processing dteMuWC|TRA_42\n",
      "processing 4rGdkfj|TRA_42\n",
      "processing LREHkrn|TRA_43\n",
      "processing fztYnDT|TRA_43\n",
      "processing WMxqiTT|TRA_43\n",
      "processing UWVYPct|TRA_44\n",
      "processing 6TtKp9w|TRA_44\n"
     ]
    },
    {
     "name": "stderr",
     "output_type": "stream",
     "text": [
      " 51% |####################################                                    |\r"
     ]
    },
    {
     "name": "stdout",
     "output_type": "stream",
     "text": [
      "processing LREHkrn|TRA_44\n",
      "processing TXHA2Zu|TRA_44\n",
      "processing dteMuWC|TRA_44\n",
      "processing 4rGdkfj|TRA_44\n",
      "processing WMxqiTT|TRA_44\n",
      "processing 54KfVz7|TRA_44\n",
      "processing KFtJTbD|TRA_45\n"
     ]
    },
    {
     "name": "stderr",
     "output_type": "stream",
     "text": [
      " 52% |#####################################                                   |\r"
     ]
    },
    {
     "name": "stdout",
     "output_type": "stream",
     "text": [
      "processing fztYnDT|TRA_45\n",
      "processing WMxqiTT|TRA_45\n"
     ]
    },
    {
     "name": "stderr",
     "output_type": "stream",
     "text": [
      " 53% |######################################                                  |\r"
     ]
    },
    {
     "name": "stdout",
     "output_type": "stream",
     "text": [
      "processing UWVYPct|TRA_46\n",
      "processing 6TtKp9w|TRA_46\n",
      "processing LREHkrn|TRA_46\n",
      "processing TXHA2Zu|TRA_46\n",
      "processing dteMuWC|TRA_46\n",
      "processing 4rGdkfj|TRA_46\n",
      "processing 54KfVz7|TRA_46\n",
      "processing KFtJTbD|TRA_47\n"
     ]
    },
    {
     "name": "stderr",
     "output_type": "stream",
     "text": [
      " 54% |#######################################                                 |\r"
     ]
    },
    {
     "name": "stdout",
     "output_type": "stream",
     "text": [
      "processing LREHkrn|TRA_47\n",
      "processing fztYnDT|TRA_47\n",
      "processing 4rGdkfj|TRA_47\n",
      "processing UWVYPct|TRA_48\n",
      "processing 6TtKp9w|TRA_48\n",
      "processing TXHA2Zu|TRA_48\n",
      "processing 4rGdkfj|TRA_48\n",
      "processing 54KfVz7|TRA_48\n"
     ]
    },
    {
     "name": "stderr",
     "output_type": "stream",
     "text": [
      " 55% |#######################################                                 |\r"
     ]
    },
    {
     "name": "stdout",
     "output_type": "stream",
     "text": [
      "processing KFtJTbD|TRA_49\n",
      "processing LREHkrn|TRA_49\n",
      "processing TXHA2Zu|TRA_49\n",
      "processing fztYnDT|TRA_49\n",
      "processing dteMuWC|TRA_49\n"
     ]
    },
    {
     "name": "stderr",
     "output_type": "stream",
     "text": [
      " 56% |########################################                                |\r"
     ]
    },
    {
     "name": "stdout",
     "output_type": "stream",
     "text": [
      "processing 4rGdkfj|TRA_49\n",
      "processing WMxqiTT|TRA_49\n",
      "processing KFtJTbD|TRA_5\n",
      "processing 6TtKp9w|TRA_5\n",
      "processing fztYnDT|TRA_5\n",
      "processing dteMuWC|TRA_5\n",
      "processing WMxqiTT|TRA_5\n"
     ]
    },
    {
     "name": "stderr",
     "output_type": "stream",
     "text": [
      " 57% |#########################################                               |\r"
     ]
    },
    {
     "name": "stdout",
     "output_type": "stream",
     "text": [
      "processing KFtJTbD|TRA_50\n",
      "processing UWVYPct|TRA_50\n",
      "processing 6TtKp9w|TRA_50\n",
      "processing UWVYPct|TRA_51\n",
      "processing LREHkrn|TRA_51\n",
      "processing fztYnDT|TRA_51\n",
      "processing dteMuWC|TRA_51\n"
     ]
    },
    {
     "name": "stderr",
     "output_type": "stream",
     "text": [
      " 58% |##########################################                              |\r"
     ]
    },
    {
     "name": "stdout",
     "output_type": "stream",
     "text": [
      "processing 4rGdkfj|TRA_51\n",
      "processing WMxqiTT|TRA_51\n",
      "processing 54KfVz7|TRA_51\n",
      "processing KFtJTbD|TRA_52\n"
     ]
    },
    {
     "name": "stderr",
     "output_type": "stream",
     "text": [
      " 59% |##########################################                              |\r"
     ]
    },
    {
     "name": "stdout",
     "output_type": "stream",
     "text": [
      "processing 6TtKp9w|TRA_52\n",
      "processing 4rGdkfj|TRA_52\n",
      "processing UWVYPct|TRA_53\n",
      "processing LREHkrn|TRA_53\n",
      "processing TXHA2Zu|TRA_53\n",
      "processing dteMuWC|TRA_53\n",
      "processing WMxqiTT|TRA_53\n",
      "processing KFtJTbD|TRA_54\n"
     ]
    },
    {
     "name": "stderr",
     "output_type": "stream",
     "text": [
      " 60% |###########################################                             |\r"
     ]
    },
    {
     "name": "stdout",
     "output_type": "stream",
     "text": [
      "processing fztYnDT|TRA_54\n",
      "processing 4rGdkfj|TRA_54\n",
      "processing UWVYPct|TRA_55\n",
      "processing TXHA2Zu|TRA_55\n",
      "processing fztYnDT|TRA_55\n",
      "processing dteMuWC|TRA_55\n"
     ]
    },
    {
     "name": "stderr",
     "output_type": "stream",
     "text": [
      " 61% |############################################                            |\r"
     ]
    },
    {
     "name": "stdout",
     "output_type": "stream",
     "text": [
      "processing WMxqiTT|TRA_55\n",
      "processing 54KfVz7|TRA_55\n",
      "processing KFtJTbD|TRA_56\n",
      "processing UWVYPct|TRA_56\n"
     ]
    },
    {
     "name": "stderr",
     "output_type": "stream",
     "text": [
      " 62% |#############################################                           |\r"
     ]
    },
    {
     "name": "stdout",
     "output_type": "stream",
     "text": [
      "processing 6TtKp9w|TRA_56\n",
      "processing TXHA2Zu|TRA_56\n",
      "processing fztYnDT|TRA_56\n",
      "processing WMxqiTT|TRA_56\n",
      "processing 54KfVz7|TRA_56\n",
      "processing"
     ]
    },
    {
     "name": "stderr",
     "output_type": "stream",
     "text": [
      " 63% |#############################################                           |\r"
     ]
    },
    {
     "name": "stdout",
     "output_type": "stream",
     "text": [
      " 6TtKp9w|TRA_57\n",
      "processing LREHkrn|TRA_57\n",
      "processing fztYnDT|TRA_57\n",
      "processing dteMuWC|TRA_57\n",
      "processing KFtJTbD|TRA_58\n"
     ]
    },
    {
     "name": "stderr",
     "output_type": "stream",
     "text": [
      " 64% |##############################################                          |\r"
     ]
    },
    {
     "name": "stdout",
     "output_type": "stream",
     "text": [
      "processing UWVYPct|TRA_58\n",
      "processing TXHA2Zu|TRA_58\n",
      "processing 4rGdkfj|TRA_58\n",
      "processing WMxqiTT|TRA_58\n",
      "processing 54KfVz7|TRA_58\n",
      "processing 6TtKp9w|TRA_59\n",
      "processing LREHkrn|TRA_59\n",
      "processing dteMuWC|TRA_59\n"
     ]
    },
    {
     "name": "stderr",
     "output_type": "stream",
     "text": [
      " 65% |###############################################                         |\r"
     ]
    },
    {
     "name": "stdout",
     "output_type": "stream",
     "text": [
      "processing 54KfVz7|TRA_59\n",
      "processing UWVYPct|TRA_6\n",
      "processing TXHA2Zu|TRA_6\n",
      "processing 4rGdkfj|TRA_6\n",
      "processing KFtJTbD|TRA_60\n",
      "processing UWVYPct|TRA_60\n",
      "processing 6TtKp9w|TRA_60\n",
      "processing TXHA2Zu|TRA_60\n"
     ]
    },
    {
     "name": "stderr",
     "output_type": "stream",
     "text": [
      " 67% |################################################                        |\r"
     ]
    },
    {
     "name": "stdout",
     "output_type": "stream",
     "text": [
      "processing fztYnDT|TRA_60\n",
      "processing 4rGdkfj|TRA_60\n",
      "processing WMxqiTT|TRA_60\n",
      "processing LREHkrn|TRA_61\n",
      "processing fztYnDT|TRA_61\n",
      "processing dteMuWC|TRA_61\n"
     ]
    },
    {
     "name": "stderr",
     "output_type": "stream",
     "text": [
      " 68% |#################################################                       |\r"
     ]
    },
    {
     "name": "stdout",
     "output_type": "stream",
     "text": [
      "processing 54KfVz7|TRA_61\n",
      "processing KFtJTbD|TRA_62\n"
     ]
    },
    {
     "name": "stderr",
     "output_type": "stream",
     "text": [
      " 69% |#################################################                       |\r"
     ]
    },
    {
     "name": "stdout",
     "output_type": "stream",
     "text": [
      "processing UWVYPct|TRA_62\n",
      "processing 6TtKp9w|TRA_62\n",
      "processing TXHA2Zu|TRA_62\n",
      "processing fztYnDT|TRA_62\n",
      "processing dteMuWC|TRA_62\n",
      "processing 4rGdkfj|TRA_62\n",
      "processing 54KfVz7|TRA_62\n",
      "processing KFtJTbD|TRA_63\n",
      "processing 54KfVz7|TRA_63\n"
     ]
    },
    {
     "name": "stderr",
     "output_type": "stream",
     "text": [
      " 70% |##################################################                      |\r"
     ]
    },
    {
     "name": "stdout",
     "output_type": "stream",
     "text": [
      "processing UWVYPct|TRA_64\n",
      "processing 6TtKp9w|TRA_64\n",
      "processing LREHkrn|TRA_64\n",
      "processing TXHA2Zu|TRA_64\n",
      "processing fztYnDT|TRA_64\n"
     ]
    },
    {
     "name": "stderr",
     "output_type": "stream",
     "text": [
      " 71% |###################################################                     |\r"
     ]
    },
    {
     "name": "stdout",
     "output_type": "stream",
     "text": [
      "processing WMxqiTT|TRA_64\n",
      "processing KFtJTbD|TRA_65\n",
      "processing UWVYPct|TRA_65\n",
      "processing TXHA2Zu|TRA_65\n",
      "processing fztYnDT|TRA_65\n",
      "processing dteMuWC|TRA_65\n",
      "processing 4rGdkfj|TRA_65\n"
     ]
    },
    {
     "name": "stderr",
     "output_type": "stream",
     "text": [
      " 72% |####################################################                    |\r"
     ]
    },
    {
     "name": "stdout",
     "output_type": "stream",
     "text": [
      "processing WMxqiTT|TRA_65\n",
      "processing 6TtKp9w|TRA_66\n",
      "processing LREHkrn|TRA_66\n",
      "processing TXHA2Zu|TRA_66\n",
      "processing 4rGdkfj|TRA_66\n",
      "processing "
     ]
    },
    {
     "name": "stderr",
     "output_type": "stream",
     "text": [
      " 73% |####################################################                    |\r"
     ]
    },
    {
     "name": "stdout",
     "output_type": "stream",
     "text": [
      "UWVYPct|TRA_67\n",
      "processing 6TtKp9w|TRA_67\n",
      "processing TXHA2Zu|TRA_67\n",
      "processing fztYnDT|TRA_67\n",
      "processing dteMuWC|TRA_67\n",
      "processing 54KfVz7|TRA_67\n",
      "processing KFtJTbD|TRA_68\n",
      "processing "
     ]
    },
    {
     "name": "stderr",
     "output_type": "stream",
     "text": [
      " 74% |#####################################################                   |\r"
     ]
    },
    {
     "name": "stdout",
     "output_type": "stream",
     "text": [
      "4rGdkfj|TRA_68\n",
      "processing WMxqiTT|TRA_68\n",
      "processing 54KfVz7|TRA_68\n",
      "processing UWVYPct|TRA_69\n",
      "processing LREHkrn|TRA_69\n",
      "processing TXHA2Zu|TRA_69\n"
     ]
    },
    {
     "name": "stderr",
     "output_type": "stream",
     "text": [
      " 75% |######################################################                  |\r"
     ]
    },
    {
     "name": "stdout",
     "output_type": "stream",
     "text": [
      "processing fztYnDT|TRA_69\n",
      "processing dteMuWC|TRA_69\n",
      "processing 54KfVz7|TRA_69\n",
      "processing KFtJTbD|TRA_7\n",
      "processing 6TtKp9w|TRA_7\n",
      "processing TXHA2Zu|TRA_7\n"
     ]
    },
    {
     "name": "stderr",
     "output_type": "stream",
     "text": [
      " 76% |#######################################################                 |\r"
     ]
    },
    {
     "name": "stdout",
     "output_type": "stream",
     "text": [
      "processing fztYnDT|TRA_7\n",
      "processing dteMuWC|TRA_7\n",
      "processing WMxqiTT|TRA_7\n",
      "processing 54KfVz7|TRA_7\n",
      "processing KFtJTbD|TRA_70\n",
      "processing UWVYPct|TRA_70\n",
      "processing 6TtKp9w|TRA_70\n"
     ]
    },
    {
     "name": "stderr",
     "output_type": "stream",
     "text": [
      " 77% |#######################################################                 |\r"
     ]
    },
    {
     "name": "stdout",
     "output_type": "stream",
     "text": [
      "processing LREHkrn|TRA_70\n",
      "processing 4rGdkfj|TRA_70\n",
      "processing KFtJTbD|TRA_71\n"
     ]
    },
    {
     "name": "stderr",
     "output_type": "stream",
     "text": [
      " 78% |########################################################                |\r"
     ]
    },
    {
     "name": "stdout",
     "output_type": "stream",
     "text": [
      "processing TXHA2Zu|TRA_71\n",
      "processing fztYnDT|TRA_71\n",
      "processing dteMuWC|TRA_71\n",
      "processing TXHA2Zu|TRA_72\n",
      "processing fztYnDT|TRA_72\n",
      "processing dteMuWC|TRA_72\n",
      "processing 4rGdkfj|TRA_72\n",
      "processing 54KfVz7|TRA_72\n"
     ]
    },
    {
     "name": "stderr",
     "output_type": "stream",
     "text": [
      " 79% |#########################################################               |\r"
     ]
    },
    {
     "name": "stdout",
     "output_type": "stream",
     "text": [
      "processing KFtJTbD|TRA_73\n",
      "processing UWVYPct|TRA_73\n",
      "processing 6TtKp9w|TRA_73\n",
      "processing fztYnDT|TRA_73\n",
      "processing WMxqiTT|TRA_73\n",
      "processing 54KfVz7|TRA_73\n"
     ]
    },
    {
     "name": "stderr",
     "output_type": "stream",
     "text": [
      " 80% |##########################################################              |\r"
     ]
    },
    {
     "name": "stdout",
     "output_type": "stream",
     "text": [
      "processing LREHkrn|TRA_74\n",
      "processing TXHA2Zu|TRA_74\n",
      "processing dteMuWC|TRA_74\n",
      "processing 4rGdkfj|TRA_74\n",
      "processing KFtJTbD|TRA_75\n"
     ]
    },
    {
     "name": "stderr",
     "output_type": "stream",
     "text": [
      " 81% |##########################################################              |\r"
     ]
    },
    {
     "name": "stdout",
     "output_type": "stream",
     "text": [
      "processing UWVYPct|TRA_75\n",
      "processing 6TtKp9w|TRA_75\n",
      "processing fztYnDT|TRA_75\n",
      "processing WMxqiTT|TRA_75\n",
      "processing TXHA2Zu|TRA_76\n",
      "processing dteMuWC|TRA_76\n"
     ]
    },
    {
     "name": "stderr",
     "output_type": "stream",
     "text": [
      " 82% |###########################################################             |\r"
     ]
    },
    {
     "name": "stdout",
     "output_type": "stream",
     "text": [
      "processing 4rGdkfj|TRA_76\n",
      "processing KFtJTbD|TRA_77\n",
      "processing 6TtKp9w|TRA_77\n",
      "processing fztYnDT|TRA_77\n",
      "processing dteMuWC|TRA_77\n",
      "processing UWVYPct|TRA_78\n",
      "processing LREHkrn|TRA_78\n"
     ]
    },
    {
     "name": "stderr",
     "output_type": "stream",
     "text": [
      " 84% |############################################################            |\r"
     ]
    },
    {
     "name": "stdout",
     "output_type": "stream",
     "text": [
      "processing TXHA2Zu|TRA_78\n",
      "processing 54KfVz7|TRA_78\n",
      "processing KFtJTbD|TRA_79\n",
      "processing 6TtKp9w|TRA_79\n",
      "processing fztYnDT|TRA_79\n"
     ]
    },
    {
     "name": "stderr",
     "output_type": "stream",
     "text": [
      " 85% |#############################################################           |\r"
     ]
    },
    {
     "name": "stdout",
     "output_type": "stream",
     "text": [
      "processing dteMuWC|TRA_79\n",
      "processing 4rGdkfj|TRA_79\n",
      "processing WMxqiTT|TRA_79\n",
      "processing 54KfVz7|TRA_79\n",
      "processing LREHkrn|TRA_8\n",
      "processing fztYnDT|TRA_8\n"
     ]
    },
    {
     "name": "stderr",
     "output_type": "stream",
     "text": [
      " 86% |##############################################################          |\r"
     ]
    },
    {
     "name": "stdout",
     "output_type": "stream",
     "text": [
      "processing 4rGdkfj|TRA_8\n",
      "processing UWVYPct|TRA_80\n",
      "processing LREHkrn|TRA_80\n",
      "processing TXHA2Zu|TRA_80\n",
      "processing fztYnDT|TRA_80\n",
      "processing KFtJTbD|TRA_81\n",
      "processing 6TtKp9w|TRA_81\n",
      "processing dteMuWC|TRA_81\n"
     ]
    },
    {
     "name": "stderr",
     "output_type": "stream",
     "text": [
      " 87% |##############################################################          |\r"
     ]
    },
    {
     "name": "stdout",
     "output_type": "stream",
     "text": [
      "processing 54KfVz7|TRA_81\n",
      "processing UWVYPct|TRA_82\n",
      "processing LREHkrn|TRA_82\n",
      "processing TXHA2Zu|TRA_82\n",
      "processing fztYnDT|TRA_82\n"
     ]
    },
    {
     "name": "stderr",
     "output_type": "stream",
     "text": [
      " 88% |###############################################################         |\r"
     ]
    },
    {
     "name": "stdout",
     "output_type": "stream",
     "text": [
      "processing 4rGdkfj|TRA_82\n",
      "processing WMxqiTT|TRA_82\n",
      "processing 54KfVz7|TRA_82\n",
      "processing KFtJTbD|TRA_83\n",
      "processing 6TtKp9w|TRA_83\n",
      "processing dteMuWC|TRA_83\n"
     ]
    },
    {
     "name": "stderr",
     "output_type": "stream",
     "text": [
      " 89% |################################################################        |\r"
     ]
    },
    {
     "name": "stdout",
     "output_type": "stream",
     "text": [
      "processing 54KfVz7|TRA_83\n",
      "processing UWVYPct|TRA_84\n",
      "processing TXHA2Zu|TRA_84\n",
      "processing fztYnDT|TRA_84\n"
     ]
    },
    {
     "name": "stderr",
     "output_type": "stream",
     "text": [
      " 90% |#################################################################       |\r"
     ]
    },
    {
     "name": "stdout",
     "output_type": "stream",
     "text": [
      "processing WMxqiTT|TRA_84\n",
      "processing KFtJTbD|TRA_85\n",
      "processing 6TtKp9w|TRA_85\n",
      "processing LREHkrn|TRA_85\n",
      "processing 4rGdkfj|TRA_85\n",
      "processing 54KfVz7|TRA_85\n",
      "processing KFtJTbD|TRA_86\n"
     ]
    },
    {
     "name": "stderr",
     "output_type": "stream",
     "text": [
      " 91% |#################################################################       |\r"
     ]
    },
    {
     "name": "stdout",
     "output_type": "stream",
     "text": [
      "processing TXHA2Zu|TRA_86\n",
      "processing 4rGdkfj|TRA_86\n",
      "processing UWVYPct|TRA_87\n",
      "processing 6TtKp9w|TRA_87\n",
      "processing WMxqiTT|TRA_87\n",
      "processing 54KfVz7|TRA_87\n",
      "processing KFtJTbD|TRA_88\n",
      "processing "
     ]
    },
    {
     "name": "stderr",
     "output_type": "stream",
     "text": [
      " 92% |##################################################################      |\r"
     ]
    },
    {
     "name": "stdout",
     "output_type": "stream",
     "text": [
      "LREHkrn|TRA_88\n",
      "processing TXHA2Zu|TRA_88\n",
      "processing UWVYPct|TRA_89\n",
      "processing 6TtKp9w|TRA_89\n"
     ]
    },
    {
     "name": "stderr",
     "output_type": "stream",
     "text": [
      " 93% |###################################################################     |\r"
     ]
    },
    {
     "name": "stdout",
     "output_type": "stream",
     "text": [
      "processing TXHA2Zu|TRA_89\n",
      "processing WMxqiTT|TRA_89\n",
      "processing UWVYPct|TRA_9\n",
      "processing 6TtKp9w|TRA_9\n",
      "processing TXHA2Zu|TRA_9\n",
      "processing dteMuWC|TRA_9\n"
     ]
    },
    {
     "name": "stderr",
     "output_type": "stream",
     "text": [
      " 94% |####################################################################    |\r"
     ]
    },
    {
     "name": "stdout",
     "output_type": "stream",
     "text": [
      "processing WMxqiTT|TRA_9\n",
      "processing 54KfVz7|TRA_9\n",
      "processing KFtJTbD|TRA_90\n",
      "processing UWVYPct|TRA_90\n",
      "processing LREHkrn|TRA_90\n",
      "processing 6TtKp9w|TRA_91\n",
      "processing dteMuWC|TRA_91\n"
     ]
    },
    {
     "name": "stderr",
     "output_type": "stream",
     "text": [
      " 95% |####################################################################    |\r"
     ]
    },
    {
     "name": "stdout",
     "output_type": "stream",
     "text": [
      "processing UWVYPct|TRA_92\n",
      "processing WMxqiTT|TRA_92\n",
      "processing 54KfVz7|TRA_92\n",
      "processing KFtJTbD|TRA_93\n",
      "processing 6TtKp9w|TRA_93\n",
      "processing TXHA2Zu|TRA_93\n",
      "processing dteMuWC|TRA_93\n",
      "processing UWVYPct|TRA_94\n"
     ]
    },
    {
     "name": "stderr",
     "output_type": "stream",
     "text": [
      " 96% |#####################################################################   |\r"
     ]
    },
    {
     "name": "stdout",
     "output_type": "stream",
     "text": [
      "processing LREHkrn|TRA_94\n",
      "processing WMxqiTT|TRA_94\n",
      "processing 54KfVz7|TRA_94\n",
      "processing KFtJTbD|TRA_95\n",
      "processing 6TtKp9w|TRA_95\n"
     ]
    },
    {
     "name": "stderr",
     "output_type": "stream",
     "text": [
      " 97% |######################################################################  |\r"
     ]
    },
    {
     "name": "stdout",
     "output_type": "stream",
     "text": [
      "processing TXHA2Zu|TRA_95\n",
      "processing dteMuWC|TRA_95\n",
      "processing UWVYPct|TRA_96\n",
      "processing LREHkrn|TRA_96\n",
      "processing KFtJTbD|TRA_97\n"
     ]
    },
    {
     "name": "stderr",
     "output_type": "stream",
     "text": [
      " 98% |####################################################################### |\r"
     ]
    },
    {
     "name": "stdout",
     "output_type": "stream",
     "text": [
      "processing UWVYPct|TRA_97\n",
      "processing 6TtKp9w|TRA_97\n",
      "processing TXHA2Zu|TRA_97\n",
      "processing dteMuWC|TRA_97\n",
      "processing WMxqiTT|TRA_97\n",
      "processing 54KfVz7|TRA_97\n",
      "processing"
     ]
    },
    {
     "name": "stderr",
     "output_type": "stream",
     "text": [
      "100% |########################################################################|\r"
     ]
    },
    {
     "name": "stdout",
     "output_type": "stream",
     "text": [
      " LREHkrn|TRA_98\n",
      "processing dteMuWC|TRA_99\n",
      "statistical features created\n"
     ]
    },
    {
     "name": "stderr",
     "output_type": "stream",
     "text": [
      "\n"
     ]
    }
   ],
   "source": [
    "driving_style_before = driving_style_extract(driverList=taxiId[0:10],DF=before_covid)"
   ]
  },
  {
   "cell_type": "code",
   "execution_count": 13,
   "metadata": {},
   "outputs": [
    {
     "name": "stderr",
     "output_type": "stream",
     "text": [
      "100% |########################################################################|\n"
     ]
    },
    {
     "name": "stdout",
     "output_type": "stream",
     "text": [
      "dataset is created\n"
     ]
    },
    {
     "name": "stderr",
     "output_type": "stream",
     "text": [
      "100% |########################################################################|\n",
      "  3% |##                                                                      |\r"
     ]
    },
    {
     "name": "stdout",
     "output_type": "stream",
     "text": [
      "Trajectory is created\n"
     ]
    },
    {
     "name": "stderr",
     "output_type": "stream",
     "text": [
      "100% |########################################################################|\n",
      "  0% |                                                                        |\r"
     ]
    },
    {
     "name": "stdout",
     "output_type": "stream",
     "text": [
      "Basic Features are created!\n",
      "processing KFtJTbD|TRA_1\n",
      "processing fztYnDT|TRA_1\n",
      "processing TXHA2Zu|TRA_10\n"
     ]
    },
    {
     "name": "stderr",
     "output_type": "stream",
     "text": [
      "  1% |                                                                        |\r"
     ]
    },
    {
     "name": "stdout",
     "output_type": "stream",
     "text": [
      "processing fztYnDT|TRA_10\n",
      "processing 4rGdkfj|TRA_10\n",
      "processing WMxqiTT|TRA_10\n",
      "processing TXHA2Zu|TRA_100\n",
      "processing dteMuWC|TRA_100\n",
      "processing WMxqiTT|TRA_100\n"
     ]
    },
    {
     "name": "stderr",
     "output_type": "stream",
     "text": [
      "  2% |#                                                                       |\r"
     ]
    },
    {
     "name": "stdout",
     "output_type": "stream",
     "text": [
      "processing 6TtKp9w|TRA_101\n",
      "processing TXHA2Zu|TRA_101\n",
      "processing fztYnDT|TRA_101\n",
      "processing WMxqiTT|TRA_101\n",
      "processing KFtJTbD|TRA_102\n",
      "processing 6TtKp9w|TRA_102\n",
      "processing TXHA2Zu|TRA_102\n",
      "processing 4rGdkfj|TRA_102\n",
      "processing 6TtKp9w|TRA_103\n",
      "processing fztYnDT|TRA_103\n"
     ]
    },
    {
     "name": "stderr",
     "output_type": "stream",
     "text": [
      "  3% |##                                                                      |\r"
     ]
    },
    {
     "name": "stdout",
     "output_type": "stream",
     "text": [
      "processing 54KfVz7|TRA_103\n",
      "processing KFtJTbD|TRA_104\n",
      "processing TXHA2Zu|TRA_104\n",
      "processing WMxqiTT|TRA_104\n",
      "processing 54KfVz7|TRA_104\n"
     ]
    },
    {
     "name": "stderr",
     "output_type": "stream",
     "text": [
      "C:\\Users\\Meghdad\\Anaconda3\\lib\\site-packages\\ipykernel_launcher.py:55: RuntimeWarning: invalid value encountered in true_divide\n"
     ]
    },
    {
     "name": "stdout",
     "output_type": "stream",
     "text": [
      "processing 6TtKp9w|TRA_105\n",
      "processing fztYnDT|TRA_105\n",
      "processing 4rGdkfj|TRA_105\n",
      "processing KFtJTbD|TRA_106\n"
     ]
    },
    {
     "name": "stderr",
     "output_type": "stream",
     "text": [
      "  4% |###                                                                     |\r"
     ]
    },
    {
     "name": "stdout",
     "output_type": "stream",
     "text": [
      "processing 6TtKp9w|TRA_106\n",
      "processing TXHA2Zu|TRA_106\n",
      "processing fztYnDT|TRA_106\n",
      "processing fztYnDT|TRA_107\n",
      "processing 4rGdkfj|TRA_107\n",
      "processing TXHA2Zu|TRA_108\n",
      "processing 4rGdkfj|TRA_108\n"
     ]
    },
    {
     "name": "stderr",
     "output_type": "stream",
     "text": [
      "  5% |####                                                                    |\r"
     ]
    },
    {
     "name": "stdout",
     "output_type": "stream",
     "text": [
      "processing WMxqiTT|TRA_108\n",
      "processing 54KfVz7|TRA_108\n",
      "processing 6TtKp9w|TRA_109\n",
      "processing fztYnDT|TRA_109\n",
      "processing 4rGdkfj|TRA_109\n",
      "processing WMxqiTT|TRA_109\n",
      "processing UWVYPct|TRA_11\n"
     ]
    },
    {
     "name": "stderr",
     "output_type": "stream",
     "text": [
      "  6% |####                                                                    |\r"
     ]
    },
    {
     "name": "stdout",
     "output_type": "stream",
     "text": [
      "processing 6TtKp9w|TRA_11\n",
      "processing LREHkrn|TRA_11\n",
      "processing dteMuWC|TRA_11\n",
      "processing 54KfVz7|TRA_11\n",
      "processing TXHA2Zu|TRA_110\n",
      "processing fztYnDT|TRA_110\n"
     ]
    },
    {
     "name": "stderr",
     "output_type": "stream",
     "text": [
      "  8% |#####                                                                   |\r"
     ]
    },
    {
     "name": "stdout",
     "output_type": "stream",
     "text": [
      "processing 6TtKp9w|TRA_111\n",
      "processing 4rGdkfj|TRA_111\n",
      "processing WMxqiTT|TRA_111\n",
      "processing fztYnDT|TRA_112\n",
      "processing 6TtKp9w|TRA_113\n",
      "processing fztYnDT|TRA_113\n"
     ]
    },
    {
     "name": "stderr",
     "output_type": "stream",
     "text": [
      "  9% |######                                                                  |\r"
     ]
    },
    {
     "name": "stdout",
     "output_type": "stream",
     "text": [
      "processing WMxqiTT|TRA_113\n",
      "processing 54KfVz7|TRA_113\n",
      "processing TXHA2Zu|TRA_114\n",
      "processing fztYnDT|TRA_114\n",
      "processing 54KfVz7|TRA_114\n",
      "processing fztYnDT|TRA_115\n",
      "processing 4rGdkfj|TRA_115\n",
      "processing 6TtKp9w|TRA_116\n",
      "processing TXHA2Zu|TRA_116\n"
     ]
    },
    {
     "name": "stderr",
     "output_type": "stream",
     "text": [
      " 10% |#######                                                                 |\r"
     ]
    },
    {
     "name": "stdout",
     "output_type": "stream",
     "text": [
      "processing WMxqiTT|TRA_116\n",
      "processing 54KfVz7|TRA_116\n",
      "processing fztYnDT|TRA_117\n",
      "processing 4rGdkfj|TRA_117\n",
      "processing 54KfVz7|TRA_117\n",
      "processing TXHA2Zu|TRA_118\n",
      "processing WMxqiTT|TRA_118\n"
     ]
    },
    {
     "name": "stderr",
     "output_type": "stream",
     "text": [
      " 11% |########                                                                |\r"
     ]
    },
    {
     "name": "stdout",
     "output_type": "stream",
     "text": [
      "processing 6TtKp9w|TRA_119\n",
      "processing TXHA2Zu|TRA_119\n",
      "processing fztYnDT|TRA_119\n",
      "processing KFtJTbD|TRA_12\n",
      "processing TXHA2Zu|TRA_12\n"
     ]
    },
    {
     "name": "stderr",
     "output_type": "stream",
     "text": [
      " 12% |#########                                                               |\r"
     ]
    },
    {
     "name": "stdout",
     "output_type": "stream",
     "text": [
      "processing fztYnDT|TRA_12\n",
      "processing 4rGdkfj|TRA_12\n",
      "processing TXHA2Zu|TRA_120\n",
      "processing 4rGdkfj|TRA_120\n",
      "processing WMxqiTT|TRA_120\n",
      "processing 54KfVz7|TRA_120\n",
      "processing 6TtKp9w|TRA_121\n",
      "processing fztYnDT|TRA_121\n",
      "processing 54KfVz7|TRA_121\n"
     ]
    },
    {
     "name": "stderr",
     "output_type": "stream",
     "text": [
      " 13% |#########                                                               |\r"
     ]
    },
    {
     "name": "stdout",
     "output_type": "stream",
     "text": [
      "processing TXHA2Zu|TRA_122\n",
      "processing 4rGdkfj|TRA_122\n",
      "processing WMxqiTT|TRA_122\n",
      "processing fztYnDT|TRA_123\n",
      "processing 54KfVz7|TRA_123\n"
     ]
    },
    {
     "name": "stderr",
     "output_type": "stream",
     "text": [
      " 14% |##########                                                              |\r"
     ]
    },
    {
     "name": "stdout",
     "output_type": "stream",
     "text": [
      "processing TXHA2Zu|TRA_124\n",
      "processing 4rGdkfj|TRA_124\n",
      "processing WMxqiTT|TRA_124\n",
      "processing 54KfVz7|TRA_124\n",
      "processing TXHA2Zu|TRA_125\n",
      "processing fztYnDT|TRA_125\n",
      "processing 4rGdkfj|TRA_125\n",
      "processing 6TtKp9w|TRA_126\n",
      "processing fztYnDT|TRA_126\n"
     ]
    },
    {
     "name": "stderr",
     "output_type": "stream",
     "text": [
      " 16% |###########                                                             |\r"
     ]
    },
    {
     "name": "stdout",
     "output_type": "stream",
     "text": [
      "processing WMxqiTT|TRA_126\n",
      "processing 54KfVz7|TRA_126\n",
      "processing 6TtKp9w|TRA_127\n"
     ]
    },
    {
     "name": "stderr",
     "output_type": "stream",
     "text": [
      " 17% |############                                                            |\r"
     ]
    },
    {
     "name": "stdout",
     "output_type": "stream",
     "text": [
      "processing TXHA2Zu|TRA_127\n",
      "processing fztYnDT|TRA_127\n",
      "processing 4rGdkfj|TRA_127\n",
      "processing 6TtKp9w|TRA_128\n",
      "processing fztYnDT|TRA_128\n",
      "processing WMxqiTT|TRA_128\n",
      "processing 54KfVz7|TRA_128\n",
      "processing TXHA2Zu|TRA_129\n",
      "processing fztYnDT|TRA_129\n"
     ]
    },
    {
     "name": "stderr",
     "output_type": "stream",
     "text": [
      " 18% |#############                                                           |\r"
     ]
    },
    {
     "name": "stdout",
     "output_type": "stream",
     "text": [
      "processing 4rGdkfj|TRA_129\n",
      "processing UWVYPct|TRA_13\n",
      "processing 6TtKp9w|TRA_13\n",
      "processing LREHkrn|TRA_13\n",
      "processing WMxqiTT|TRA_13\n",
      "processing 6TtKp9w|TRA_130\n",
      "processing fztYnDT|TRA_130\n",
      "processing WMxqiTT|TRA_130\n"
     ]
    },
    {
     "name": "stderr",
     "output_type": "stream",
     "text": [
      " 19% |##############                                                          |\r"
     ]
    },
    {
     "name": "stdout",
     "output_type": "stream",
     "text": [
      "processing 54KfVz7|TRA_130\n",
      "processing TXHA2Zu|TRA_131\n",
      "processing fztYnDT|TRA_131\n",
      "processing 4rGdkfj|TRA_131\n",
      "processing 6TtKp9w|TRA_132\n",
      "processing 54KfVz7|TRA_132\n"
     ]
    },
    {
     "name": "stderr",
     "output_type": "stream",
     "text": [
      " 20% |##############                                                          |\r"
     ]
    },
    {
     "name": "stdout",
     "output_type": "stream",
     "text": [
      "processing 4rGdkfj|TRA_133\n",
      "processing 6TtKp9w|TRA_134\n",
      "processing TXHA2Zu|TRA_134\n",
      "processing fztYnDT|TRA_134\n",
      "processing 54KfVz7|TRA_134\n",
      "processing 6TtKp9w|TRA_135\n",
      "processing TXHA2Zu|TRA_135\n"
     ]
    },
    {
     "name": "stderr",
     "output_type": "stream",
     "text": [
      " 21% |###############                                                         |\r"
     ]
    },
    {
     "name": "stdout",
     "output_type": "stream",
     "text": [
      "processing fztYnDT|TRA_135\n",
      "processing 4rGdkfj|TRA_135\n",
      "processing 6TtKp9w|TRA_137\n",
      "processing TXHA2Zu|TRA_137\n",
      "processing 4rGdkfj|TRA_137\n",
      "processing 54KfVz7|TRA_138\n"
     ]
    },
    {
     "name": "stderr",
     "output_type": "stream",
     "text": [
      " 22% |################                                                        |\r"
     ]
    },
    {
     "name": "stdout",
     "output_type": "stream",
     "text": [
      "processing TXHA2Zu|TRA_139\n",
      "processing 4rGdkfj|TRA_139\n",
      "processing KFtJTbD|TRA_14\n",
      "processing TXHA2Zu|TRA_14\n",
      "processing fztYnDT|TRA_14\n",
      "processing dteMuWC|TRA_14\n",
      "processing 4rGdkfj|TRA_14\n",
      "processing 54KfVz7|TRA_14\n"
     ]
    },
    {
     "name": "stderr",
     "output_type": "stream",
     "text": [
      " 24% |#################                                                       |\r"
     ]
    },
    {
     "name": "stdout",
     "output_type": "stream",
     "text": [
      "processing 54KfVz7|TRA_140\n",
      "processing TXHA2Zu|TRA_141\n",
      "processing 4rGdkfj|TRA_141\n",
      "processing TXHA2Zu|TRA_143\n",
      "processing TXHA2Zu|TRA_144\n",
      "processing 4rGdkfj|TRA_144\n",
      "processing 54KfVz7|TRA_144\n",
      "processing 4rGdkfj|TRA_145\n",
      "processing 4rGdkfj|TRA_147\n"
     ]
    },
    {
     "name": "stderr",
     "output_type": "stream",
     "text": [
      " 25% |##################                                                      |\r"
     ]
    },
    {
     "name": "stdout",
     "output_type": "stream",
     "text": [
      "processing 54KfVz7|TRA_148\n",
      "processing KFtJTbD|TRA_15\n",
      "processing UWVYPct|TRA_15\n",
      "processing LREHkrn|TRA_15\n",
      "processing dteMuWC|TRA_15\n",
      "processing"
     ]
    },
    {
     "name": "stderr",
     "output_type": "stream",
     "text": [
      " 26% |###################                                                     |\r"
     ]
    },
    {
     "name": "stdout",
     "output_type": "stream",
     "text": [
      " WMxqiTT|TRA_15\n",
      "processing 54KfVz7|TRA_15\n",
      "processing 4rGdkfj|TRA_150\n",
      "processing 54KfVz7|TRA_150\n",
      "processing 4rGdkfj|TRA_151\n",
      "processing 4rGdkfj|TRA_152\n",
      "processing 4rGdkfj|TRA_154\n",
      "processing 54KfVz7|TRA_154\n"
     ]
    },
    {
     "name": "stderr",
     "output_type": "stream",
     "text": [
      " 27% |###################                                                     |\r"
     ]
    },
    {
     "name": "stdout",
     "output_type": "stream",
     "text": [
      "processing 4rGdkfj|TRA_155\n",
      "processing 54KfVz7|TRA_157\n",
      "processing 6TtKp9w|TRA_16\n",
      "processing TXHA2Zu|TRA_16\n",
      "processing fztYnDT|TRA_16\n",
      "processing 4rGdkfj|TRA_16\n"
     ]
    },
    {
     "name": "stderr",
     "output_type": "stream",
     "text": [
      " 28% |####################                                                    |\r"
     ]
    },
    {
     "name": "stdout",
     "output_type": "stream",
     "text": [
      "processing WMxqiTT|TRA_16\n",
      "processing 54KfVz7|TRA_16\n",
      "processing 54KfVz7|TRA_160\n",
      "processing 54KfVz7|TRA_163\n",
      "processing 54KfVz7|TRA_166\n",
      "processing 54KfVz7|TRA_169\n",
      "processing UWVYPct|TRA_17\n",
      "processing LREHkrn|TRA_17\n",
      "processing dteMuWC|TRA_17\n"
     ]
    },
    {
     "name": "stderr",
     "output_type": "stream",
     "text": [
      " 29% |#####################                                                   |\r"
     ]
    },
    {
     "name": "stdout",
     "output_type": "stream",
     "text": [
      "processing 54KfVz7|TRA_172\n",
      "processing 54KfVz7|TRA_175\n",
      "processing KFtJTbD|TRA_18\n",
      "processing 6TtKp9w|TRA_18\n",
      "processing TXHA2Zu|TRA_18\n"
     ]
    },
    {
     "name": "stderr",
     "output_type": "stream",
     "text": [
      " 30% |######################                                                  |\r"
     ]
    },
    {
     "name": "stdout",
     "output_type": "stream",
     "text": [
      "processing fztYnDT|TRA_18\n",
      "processing 4rGdkfj|TRA_18\n",
      "processing WMxqiTT|TRA_18\n",
      "processing UWVYPct|TRA_19\n",
      "processing 6TtKp9w|TRA_19\n"
     ]
    },
    {
     "name": "stderr",
     "output_type": "stream",
     "text": [
      " 32% |#######################                                                 |\r"
     ]
    },
    {
     "name": "stdout",
     "output_type": "stream",
     "text": [
      "processing LREHkrn|TRA_19\n",
      "processing TXHA2Zu|TRA_19\n",
      "processing dteMuWC|TRA_19\n",
      "processing 54KfVz7|TRA_19\n",
      "processing KFtJTbD|TRA_2\n",
      "processing UWVYPct|TRA_2\n",
      "processing 6TtKp9w|TRA_2\n",
      "processing LREHkrn|TRA_2\n",
      "processing TXHA2Zu|TRA_2\n",
      "processing 4rGdkfj|TRA_2\n"
     ]
    },
    {
     "name": "stderr",
     "output_type": "stream",
     "text": [
      " 33% |#######################                                                 |\r"
     ]
    },
    {
     "name": "stdout",
     "output_type": "stream",
     "text": [
      "processing 54KfVz7|TRA_2\n",
      "processing KFtJTbD|TRA_20\n",
      "processing fztYnDT|TRA_20\n",
      "processing WMxqiTT|TRA_20\n",
      "processing UWVYPct|TRA_21\n",
      "processing 6TtKp9w|TRA_21\n",
      "processing LREHkrn|TRA_21\n",
      "processing 4rGdkfj|TRA_21\n"
     ]
    },
    {
     "name": "stderr",
     "output_type": "stream",
     "text": [
      " 34% |########################                                                |\r"
     ]
    },
    {
     "name": "stdout",
     "output_type": "stream",
     "text": [
      "processing 54KfVz7|TRA_21\n",
      "processing KFtJTbD|TRA_22\n"
     ]
    },
    {
     "name": "stderr",
     "output_type": "stream",
     "text": [
      " 35% |#########################                                               |\r"
     ]
    },
    {
     "name": "stdout",
     "output_type": "stream",
     "text": [
      "processing LREHkrn|TRA_22\n",
      "processing TXHA2Zu|TRA_22\n",
      "processing fztYnDT|TRA_22\n",
      "processing dteMuWC|TRA_22\n",
      "processing 4rGdkfj|TRA_22\n",
      "processing KFtJTbD|TRA_23\n",
      "processing UWVYPct|TRA_23\n",
      "processing 6TtKp9w|TRA_23\n",
      "processing TXHA2Zu|TRA_23\n",
      "processing WMxqiTT|TRA_23\n",
      "processing 54KfVz7|TRA_23\n",
      "processing"
     ]
    },
    {
     "name": "stderr",
     "output_type": "stream",
     "text": [
      " 36% |##########################                                              |\r"
     ]
    },
    {
     "name": "stdout",
     "output_type": "stream",
     "text": [
      " KFtJTbD|TRA_24\n",
      "processing LREHkrn|TRA_24\n",
      "processing TXHA2Zu|TRA_24\n",
      "processing fztYnDT|TRA_24\n"
     ]
    },
    {
     "name": "stderr",
     "output_type": "stream",
     "text": [
      " 37% |###########################                                             |\r"
     ]
    },
    {
     "name": "stdout",
     "output_type": "stream",
     "text": [
      "processing dteMuWC|TRA_24\n",
      "processing UWVYPct|TRA_25\n",
      "processing 6TtKp9w|TRA_25\n",
      "processing fztYnDT|TRA_25\n",
      "processing WMxqiTT|TRA_25\n",
      "processing KFtJTbD|TRA_26\n"
     ]
    },
    {
     "name": "stderr",
     "output_type": "stream",
     "text": [
      " 39% |############################                                            |\r"
     ]
    },
    {
     "name": "stdout",
     "output_type": "stream",
     "text": [
      "processing 6TtKp9w|TRA_26\n",
      "processing LREHkrn|TRA_26\n",
      "processing TXHA2Zu|TRA_26\n",
      "processing fztYnDT|TRA_26\n",
      "processing dteMuWC|TRA_26\n",
      "processing 4rGdkfj|TRA_26\n",
      "processing KFtJTbD|TRA_27\n",
      "processing UWVYPct|TRA_27\n",
      "processing 54KfVz7|TRA_27\n",
      "processing KFtJTbD|TRA_28\n"
     ]
    },
    {
     "name": "stderr",
     "output_type": "stream",
     "text": [
      " 40% |############################                                            |\r"
     ]
    },
    {
     "name": "stdout",
     "output_type": "stream",
     "text": [
      "processing LREHkrn|TRA_28\n",
      "processing TXHA2Zu|TRA_28\n",
      "processing fztYnDT|TRA_28\n",
      "processing dteMuWC|TRA_28\n",
      "processing WMxqiTT|TRA_28\n",
      "processing KFtJTbD|TRA_29\n"
     ]
    },
    {
     "name": "stderr",
     "output_type": "stream",
     "text": [
      " 41% |#############################                                           |\r"
     ]
    },
    {
     "name": "stdout",
     "output_type": "stream",
     "text": [
      "processing UWVYPct|TRA_29\n",
      "processing 6TtKp9w|TRA_29\n",
      "processing fztYnDT|TRA_29\n",
      "processing 4rGdkfj|TRA_29\n",
      "processing fztYnDT|TRA_3\n",
      "processing WMxqiTT|TRA_3\n",
      "processing LREHkrn|TRA_30\n",
      "processing TXHA2Zu|TRA_30\n",
      "processing fztYnDT|TRA_30\n"
     ]
    },
    {
     "name": "stderr",
     "output_type": "stream",
     "text": [
      " 42% |##############################                                          |\r"
     ]
    },
    {
     "name": "stdout",
     "output_type": "stream",
     "text": [
      "processing WMxqiTT|TRA_30\n",
      "processing 54KfVz7|TRA_30\n",
      "processing KFtJTbD|TRA_31\n",
      "processing UWVYPct|TRA_31\n",
      "processing 6TtKp9w|TRA_31\n"
     ]
    },
    {
     "name": "stderr",
     "output_type": "stream",
     "text": [
      " 43% |###############################                                         |\r"
     ]
    },
    {
     "name": "stdout",
     "output_type": "stream",
     "text": [
      "processing fztYnDT|TRA_31\n",
      "processing KFtJTbD|TRA_32\n",
      "processing WMxqiTT|TRA_32\n",
      "processing 54KfVz7|TRA_32\n",
      "processing UWVYPct|TRA_33\n",
      "processing 6TtKp9w|TRA_33\n",
      "processing LREHkrn|TRA_33\n",
      "processing fztYnDT|TRA_33\n"
     ]
    },
    {
     "name": "stderr",
     "output_type": "stream",
     "text": [
      " 44% |################################                                        |\r"
     ]
    },
    {
     "name": "stdout",
     "output_type": "stream",
     "text": [
      "processing 4rGdkfj|TRA_33\n",
      "processing WMxqiTT|TRA_33\n",
      "processing KFtJTbD|TRA_34\n",
      "processing LREHkrn|TRA_34\n",
      "processing TXHA2Zu|TRA_34\n",
      "processing dteMuWC|TRA_34\n",
      "processing 54KfVz7|TRA_34\n",
      "processing UWVYPct|TRA_35\n",
      "processing 6TtKp9w|TRA_35\n"
     ]
    },
    {
     "name": "stderr",
     "output_type": "stream",
     "text": [
      " 45% |#################################                                       |\r"
     ]
    },
    {
     "name": "stdout",
     "output_type": "stream",
     "text": [
      "processing fztYnDT|TRA_35\n",
      "processing dteMuWC|TRA_35\n",
      "processing WMxqiTT|TRA_35\n",
      "processing LREHkrn|TRA_36\n",
      "processing dteMuWC|TRA_36\n"
     ]
    },
    {
     "name": "stderr",
     "output_type": "stream",
     "text": [
      " 47% |#################################                                       |\r"
     ]
    },
    {
     "name": "stdout",
     "output_type": "stream",
     "text": [
      "processing 4rGdkfj|TRA_36\n",
      "processing UWVYPct|TRA_37\n",
      "processing 6TtKp9w|TRA_37\n",
      "processing TXHA2Zu|TRA_37\n",
      "processing WMxqiTT|TRA_37\n"
     ]
    },
    {
     "name": "stderr",
     "output_type": "stream",
     "text": [
      " 48% |##################################                                      |\r"
     ]
    },
    {
     "name": "stdout",
     "output_type": "stream",
     "text": [
      "processing KFtJTbD|TRA_38\n",
      "processing UWVYPct|TRA_38\n",
      "processing LREHkrn|TRA_38\n",
      "processing fztYnDT|TRA_38\n",
      "processing dteMuWC|TRA_38\n",
      "processing 54KfVz7|TRA_38\n",
      "processing 6TtKp9w|TRA_39\n",
      "processing TXHA2Zu|TRA_39\n",
      "processing UWVYPct|TRA_4\n",
      "processing 6TtKp9w|TRA_4\n",
      "processing fztYnDT|TRA_4\n"
     ]
    },
    {
     "name": "stderr",
     "output_type": "stream",
     "text": [
      " 49% |###################################                                     |\r"
     ]
    },
    {
     "name": "stdout",
     "output_type": "stream",
     "text": [
      "processing dteMuWC|TRA_4\n",
      "processing 4rGdkfj|TRA_4\n",
      "processing WMxqiTT|TRA_4\n",
      "processing KFtJTbD|TRA_40\n",
      "processing UWVYPct|TRA_40\n",
      "processing LREHkrn|TRA_40\n",
      "processing fztYnDT|TRA_40\n"
     ]
    },
    {
     "name": "stderr",
     "output_type": "stream",
     "text": [
      " 50% |####################################                                    |\r"
     ]
    },
    {
     "name": "stdout",
     "output_type": "stream",
     "text": [
      "processing dteMuWC|TRA_40\n",
      "processing 54KfVz7|TRA_40\n",
      "processing 6TtKp9w|TRA_41\n",
      "processing LREHkrn|TRA_41\n",
      "processing TXHA2Zu|TRA_41\n",
      "processing fztYnDT|TRA_42\n"
     ]
    },
    {
     "name": "stderr",
     "output_type": "stream",
     "text": [
      " 51% |#####################################                                   |\r"
     ]
    },
    {
     "name": "stdout",
     "output_type": "stream",
     "text": [
      "processing dteMuWC|TRA_42\n",
      "processing 4rGdkfj|TRA_42\n",
      "processing WMxqiTT|TRA_42\n",
      "processing KFtJTbD|TRA_43\n",
      "processing LREHkrn|TRA_43\n",
      "processing TXHA2Zu|TRA_43\n"
     ]
    },
    {
     "name": "stderr",
     "output_type": "stream",
     "text": [
      " 52% |######################################                                  |\r"
     ]
    },
    {
     "name": "stdout",
     "output_type": "stream",
     "text": [
      "processing dteMuWC|TRA_43\n",
      "processing UWVYPct|TRA_44\n",
      "processing 6TtKp9w|TRA_44\n",
      "processing LREHkrn|TRA_44\n",
      "processing 4rGdkfj|TRA_44\n",
      "processing WMxqiTT|TRA_44\n"
     ]
    },
    {
     "name": "stderr",
     "output_type": "stream",
     "text": [
      " 53% |######################################                                  |\r"
     ]
    },
    {
     "name": "stdout",
     "output_type": "stream",
     "text": [
      "processing TXHA2Zu|TRA_45\n",
      "processing fztYnDT|TRA_45\n",
      "processing 54KfVz7|TRA_45\n",
      "processing KFtJTbD|TRA_46\n",
      "processing UWVYPct|TRA_46\n",
      "processing LREHkrn|TRA_46\n",
      "processing fztYnDT|TRA_46\n"
     ]
    },
    {
     "name": "stderr",
     "output_type": "stream",
     "text": [
      " 55% |#######################################                                 |\r"
     ]
    },
    {
     "name": "stdout",
     "output_type": "stream",
     "text": [
      "processing dteMuWC|TRA_46\n",
      "processing 4rGdkfj|TRA_46\n",
      "processing WMxqiTT|TRA_46\n",
      "processing TXHA2Zu|TRA_47\n",
      "processing UWVYPct|TRA_48\n",
      "processing 6TtKp9w|TRA_48\n",
      "processing LREHkrn|TRA_48\n",
      "processing TXHA2Zu|TRA_48\n",
      "processing fztYnDT|TRA_48\n"
     ]
    },
    {
     "name": "stderr",
     "output_type": "stream",
     "text": [
      " 56% |########################################                                |\r"
     ]
    },
    {
     "name": "stdout",
     "output_type": "stream",
     "text": [
      "processing dteMuWC|TRA_48\n",
      "processing 4rGdkfj|TRA_48\n",
      "processing WMxqiTT|TRA_48\n",
      "processing 54KfVz7|TRA_48\n",
      "processing KFtJTbD|TRA_49\n",
      "processing TXHA2Zu|TRA_49\n",
      "processing dteMuWC|TRA_49\n",
      "processing WMxqiTT|TRA_49\n"
     ]
    },
    {
     "name": "stderr",
     "output_type": "stream",
     "text": [
      " 57% |#########################################                               |\r"
     ]
    },
    {
     "name": "stdout",
     "output_type": "stream",
     "text": [
      "processing KFtJTbD|TRA_5\n",
      "processing LREHkrn|TRA_5\n",
      "processing TXHA2Zu|TRA_5\n",
      "processing dteMuWC|TRA_5\n",
      "processing 54KfVz7|TRA_5\n",
      "processing UWVYPct|TRA_50\n",
      "processing 6TtKp9w|TRA_50\n"
     ]
    },
    {
     "name": "stderr",
     "output_type": "stream",
     "text": [
      " 58% |##########################################                              |\r"
     ]
    },
    {
     "name": "stdout",
     "output_type": "stream",
     "text": [
      "processing LREHkrn|TRA_50\n",
      "processing fztYnDT|TRA_50\n",
      "processing 4rGdkfj|TRA_50\n",
      "processing 54KfVz7|TRA_50\n",
      "processing KFtJTbD|TRA_51\n",
      "processing 6TtKp9w|TRA_51\n",
      "processing fztYnDT|TRA_51\n"
     ]
    },
    {
     "name": "stderr",
     "output_type": "stream",
     "text": [
      " 59% |##########################################                              |\r"
     ]
    },
    {
     "name": "stdout",
     "output_type": "stream",
     "text": [
      "processing WMxqiTT|TRA_51\n",
      "processing UWVYPct|TRA_52\n",
      "processing 6TtKp9w|TRA_52\n",
      "processing LREHkrn|TRA_52\n",
      "processing TXHA2Zu|TRA_52\n",
      "processing fztYnDT|TRA_52\n",
      "processing dteMuWC|TRA_52\n"
     ]
    },
    {
     "name": "stderr",
     "output_type": "stream",
     "text": [
      " 60% |###########################################                             |\r"
     ]
    },
    {
     "name": "stdout",
     "output_type": "stream",
     "text": [
      "processing dteMuWC|TRA_53\n",
      "processing 4rGdkfj|TRA_53\n",
      "processing WMxqiTT|TRA_53\n",
      "processing UWVYPct|TRA_54\n"
     ]
    },
    {
     "name": "stderr",
     "output_type": "stream",
     "text": [
      " 61% |############################################                            |\r"
     ]
    },
    {
     "name": "stdout",
     "output_type": "stream",
     "text": [
      "processing 6TtKp9w|TRA_54\n",
      "processing LREHkrn|TRA_54\n",
      "processing TXHA2Zu|TRA_54\n",
      "processing fztYnDT|TRA_54\n",
      "processing dteMuWC|TRA_54\n",
      "processing 4rGdkfj|TRA_54\n",
      "processing 54KfVz7|TRA_54\n",
      "processing LREHkrn|TRA_55\n",
      "processing WMxqiTT|TRA_55\n"
     ]
    },
    {
     "name": "stderr",
     "output_type": "stream",
     "text": [
      " 63% |#############################################                           |\r"
     ]
    },
    {
     "name": "stdout",
     "output_type": "stream",
     "text": [
      "processing 54KfVz7|TRA_55\n",
      "processing KFtJTbD|TRA_56\n",
      "processing UWVYPct|TRA_56\n",
      "processing 6TtKp9w|TRA_56\n",
      "processing LREHkrn|TRA_56\n",
      "processing fztYnDT|TRA_56\n",
      "processing 4rGdkfj|TRA_56\n"
     ]
    },
    {
     "name": "stderr",
     "output_type": "stream",
     "text": [
      " 64% |##############################################                          |\r"
     ]
    },
    {
     "name": "stdout",
     "output_type": "stream",
     "text": [
      "processing UWVYPct|TRA_57\n",
      "processing TXHA2Zu|TRA_57\n",
      "processing fztYnDT|TRA_57\n",
      "processing dteMuWC|TRA_57\n",
      "processing WMxqiTT|TRA_57\n",
      "processing 54KfVz7|TRA_57\n",
      "processing KFtJTbD|TRA_58\n",
      "processing UWVYPct|TRA_58\n"
     ]
    },
    {
     "name": "stderr",
     "output_type": "stream",
     "text": [
      " 65% |###############################################                         |\r"
     ]
    },
    {
     "name": "stdout",
     "output_type": "stream",
     "text": [
      "processing 6TtKp9w|TRA_58\n",
      "processing LREHkrn|TRA_58\n",
      "processing TXHA2Zu|TRA_58\n",
      "processing fztYnDT|TRA_58\n",
      "processing 4rGdkfj|TRA_58\n",
      "processing fztYnDT|TRA_59\n"
     ]
    },
    {
     "name": "stderr",
     "output_type": "stream",
     "text": [
      " 66% |###############################################                         |\r"
     ]
    },
    {
     "name": "stdout",
     "output_type": "stream",
     "text": [
      "processing dteMuWC|TRA_59\n",
      "processing UWVYPct|TRA_6\n",
      "processing 6TtKp9w|TRA_6\n",
      "processing TXHA2Zu|TRA_6\n",
      "processing fztYnDT|TRA_6\n",
      "processing WMxqiTT|TRA_6\n"
     ]
    },
    {
     "name": "stderr",
     "output_type": "stream",
     "text": [
      " 67% |################################################                        |\r"
     ]
    },
    {
     "name": "stdout",
     "output_type": "stream",
     "text": [
      "processing KFtJTbD|TRA_60\n",
      "processing UWVYPct|TRA_60\n",
      "processing 6TtKp9w|TRA_60\n",
      "processing TXHA2Zu|TRA_60\n",
      "processing 54KfVz7|TRA_60\n",
      "processing 6TtKp9w|TRA_61\n"
     ]
    },
    {
     "name": "stderr",
     "output_type": "stream",
     "text": [
      " 68% |#################################################                       |\r"
     ]
    },
    {
     "name": "stdout",
     "output_type": "stream",
     "text": [
      "processing LREHkrn|TRA_61\n",
      "processing fztYnDT|TRA_61\n",
      "processing dteMuWC|TRA_61\n",
      "processing KFtJTbD|TRA_62\n",
      "processing UWVYPct|TRA_62\n",
      "processing LREHkrn|TRA_62\n",
      "processing TXHA2Zu|TRA_62\n",
      "processing WMxqiTT|TRA_62\n",
      "processing KFtJTbD|TRA_63\n",
      "processing LREHkrn|TRA_63\n"
     ]
    },
    {
     "name": "stderr",
     "output_type": "stream",
     "text": [
      " 70% |##################################################                      |\r"
     ]
    },
    {
     "name": "stdout",
     "output_type": "stream",
     "text": [
      "processing fztYnDT|TRA_63\n",
      "processing dteMuWC|TRA_63\n",
      "processing 4rGdkfj|TRA_63\n"
     ]
    },
    {
     "name": "stderr",
     "output_type": "stream",
     "text": [
      " 71% |###################################################                     |\r"
     ]
    },
    {
     "name": "stdout",
     "output_type": "stream",
     "text": [
      "processing KFtJTbD|TRA_64\n",
      "processing TXHA2Zu|TRA_64\n",
      "processing WMxqiTT|TRA_64\n",
      "processing 54KfVz7|TRA_64\n",
      "processing KFtJTbD|TRA_65\n",
      "processing UWVYPct|TRA_65\n",
      "processing fztYnDT|TRA_65\n",
      "processing 4rGdkfj|TRA_65\n",
      "processing 54KfVz7|TRA_65\n",
      "processing KFtJTbD|TRA_66\n"
     ]
    },
    {
     "name": "stderr",
     "output_type": "stream",
     "text": [
      " 72% |####################################################                    |\r"
     ]
    },
    {
     "name": "stdout",
     "output_type": "stream",
     "text": [
      "processing 6TtKp9w|TRA_66\n",
      "processing LREHkrn|TRA_66\n",
      "processing TXHA2Zu|TRA_66\n",
      "processing dteMuWC|TRA_66\n",
      "processing WMxqiTT|TRA_66\n",
      "processing KFtJTbD|TRA_68\n"
     ]
    },
    {
     "name": "stderr",
     "output_type": "stream",
     "text": [
      " 73% |####################################################                    |\r"
     ]
    },
    {
     "name": "stdout",
     "output_type": "stream",
     "text": [
      "processing UWVYPct|TRA_68\n",
      "processing 6TtKp9w|TRA_68\n",
      "processing LREHkrn|TRA_68\n",
      "processing TXHA2Zu|TRA_68\n",
      "processing fztYnDT|TRA_68\n",
      "processing LREHkrn|TRA_69\n",
      "processing TXHA2Zu|TRA_69\n",
      "processing "
     ]
    },
    {
     "name": "stderr",
     "output_type": "stream",
     "text": [
      " 74% |#####################################################                   |\r"
     ]
    },
    {
     "name": "stdout",
     "output_type": "stream",
     "text": [
      "fztYnDT|TRA_69\n",
      "processing dteMuWC|TRA_69\n",
      "processing WMxqiTT|TRA_69\n",
      "processing KFtJTbD|TRA_7\n"
     ]
    },
    {
     "name": "stderr",
     "output_type": "stream",
     "text": [
      " 75% |######################################################                  |\r"
     ]
    },
    {
     "name": "stdout",
     "output_type": "stream",
     "text": [
      "processing LREHkrn|TRA_7\n",
      "processing UWVYPct|TRA_70\n",
      "processing 6TtKp9w|TRA_70\n",
      "processing TXHA2Zu|TRA_70\n",
      "processing fztYnDT|TRA_70\n",
      "processing WMxqiTT|TRA_70\n",
      "processing 54KfVz7|TRA_70\n",
      "processing LREHkrn|TRA_71\n",
      "processing fztYnDT|TRA_71\n",
      "processing KFtJTbD|TRA_72\n"
     ]
    },
    {
     "name": "stderr",
     "output_type": "stream",
     "text": [
      " 76% |#######################################################                 |\r"
     ]
    },
    {
     "name": "stdout",
     "output_type": "stream",
     "text": [
      "processing UWVYPct|TRA_72\n",
      "processing 6TtKp9w|TRA_72\n",
      "processing LREHkrn|TRA_72\n",
      "processing TXHA2Zu|TRA_72\n",
      "processing fztYnDT|TRA_72\n",
      "processing dteMuWC|TRA_72\n",
      "processing 4rGdkfj|TRA_72\n"
     ]
    },
    {
     "name": "stderr",
     "output_type": "stream",
     "text": [
      " 78% |########################################################                |\r"
     ]
    },
    {
     "name": "stdout",
     "output_type": "stream",
     "text": [
      "processing WMxqiTT|TRA_72\n",
      "processing KFtJTbD|TRA_73\n",
      "processing UWVYPct|TRA_73\n",
      "processing 54KfVz7|TRA_73\n",
      "processing UWVYPct|TRA_74\n",
      "processing 6TtKp9w|TRA_74\n",
      "processing LREHkrn|TRA_74\n",
      "processing TXHA2Zu|TRA_74\n",
      "processing fztYnDT|TRA_74\n"
     ]
    },
    {
     "name": "stderr",
     "output_type": "stream",
     "text": [
      " 79% |#########################################################               |\r"
     ]
    },
    {
     "name": "stdout",
     "output_type": "stream",
     "text": [
      "processing dteMuWC|TRA_74\n",
      "processing KFtJTbD|TRA_75\n",
      "processing TXHA2Zu|TRA_75\n",
      "processing 4rGdkfj|TRA_75\n"
     ]
    },
    {
     "name": "stderr",
     "output_type": "stream",
     "text": [
      " 80% |#########################################################               |\r"
     ]
    },
    {
     "name": "stdout",
     "output_type": "stream",
     "text": [
      "processing WMxqiTT|TRA_75\n",
      "processing 54KfVz7|TRA_75\n",
      "processing KFtJTbD|TRA_76\n",
      "processing 6TtKp9w|TRA_76\n",
      "processing LREHkrn|TRA_76\n",
      "processing TXHA2Zu|TRA_76\n",
      "processing fztYnDT|TRA_76\n",
      "processing 54KfVz7|TRA_76\n"
     ]
    },
    {
     "name": "stderr",
     "output_type": "stream",
     "text": [
      " 81% |##########################################################              |\r"
     ]
    },
    {
     "name": "stdout",
     "output_type": "stream",
     "text": [
      "processing KFtJTbD|TRA_77\n",
      "processing UWVYPct|TRA_77\n",
      "processing LREHkrn|TRA_77\n",
      "processing dteMuWC|TRA_77\n",
      "processing WMxqiTT|TRA_77\n",
      "processing KFtJTbD|TRA_78\n",
      "processing UWVYPct|TRA_78\n"
     ]
    },
    {
     "name": "stderr",
     "output_type": "stream",
     "text": [
      " 82% |###########################################################             |\r"
     ]
    },
    {
     "name": "stdout",
     "output_type": "stream",
     "text": [
      "processing 6TtKp9w|TRA_78\n",
      "processing TXHA2Zu|TRA_78\n",
      "processing fztYnDT|TRA_78\n",
      "processing dteMuWC|TRA_78\n",
      "processing 4rGdkfj|TRA_79\n",
      "processing WMxqiTT|TRA_79\n",
      "processing UWVYPct|TRA_8\n"
     ]
    },
    {
     "name": "stderr",
     "output_type": "stream",
     "text": [
      " 83% |############################################################            |\r"
     ]
    },
    {
     "name": "stdout",
     "output_type": "stream",
     "text": [
      "processing 6TtKp9w|TRA_8\n",
      "processing TXHA2Zu|TRA_8\n",
      "processing fztYnDT|TRA_8\n",
      "processing dteMuWC|TRA_8\n",
      "processing 4rGdkfj|TRA_8\n",
      "processing 54KfVz7|TRA_8\n",
      "processing KFtJTbD|TRA_80\n"
     ]
    },
    {
     "name": "stderr",
     "output_type": "stream",
     "text": [
      " 84% |#############################################################           |\r"
     ]
    },
    {
     "name": "stdout",
     "output_type": "stream",
     "text": [
      "processing UWVYPct|TRA_80\n",
      "processing 6TtKp9w|TRA_80\n",
      "processing LREHkrn|TRA_80\n",
      "processing TXHA2Zu|TRA_80\n",
      "processing 54KfVz7|TRA_80\n",
      "processing TXHA2Zu|TRA_81\n",
      "processing fztYnDT|TRA_81\n"
     ]
    },
    {
     "name": "stderr",
     "output_type": "stream",
     "text": [
      " 86% |#############################################################           |\r"
     ]
    },
    {
     "name": "stdout",
     "output_type": "stream",
     "text": [
      "processing dteMuWC|TRA_81\n",
      "processing 4rGdkfj|TRA_81\n",
      "processing WMxqiTT|TRA_81\n",
      "processing 54KfVz7|TRA_81\n",
      "processing UWVYPct|TRA_82\n",
      "processing LREHkrn|TRA_82\n",
      "processing KFtJTbD|TRA_83\n",
      "processing 6TtKp9w|TRA_83\n",
      "processing fztYnDT|TRA_83\n"
     ]
    },
    {
     "name": "stderr",
     "output_type": "stream",
     "text": [
      " 87% |##############################################################          |\r"
     ]
    },
    {
     "name": "stdout",
     "output_type": "stream",
     "text": [
      "processing dteMuWC|TRA_83\n",
      "processing WMxqiTT|TRA_83\n",
      "processing UWVYPct|TRA_84\n",
      "processing TXHA2Zu|TRA_84\n",
      "processing 54KfVz7|TRA_84\n",
      "processing 6TtKp9w|TRA_85\n",
      "processing LREHkrn|TRA_85\n"
     ]
    },
    {
     "name": "stderr",
     "output_type": "stream",
     "text": [
      " 88% |###############################################################         |\r"
     ]
    },
    {
     "name": "stdout",
     "output_type": "stream",
     "text": [
      "processing fztYnDT|TRA_85\n",
      "processing 4rGdkfj|TRA_85\n",
      "processing WMxqiTT|TRA_85\n",
      "processing KFtJTbD|TRA_86\n",
      "processing LREHkrn|TRA_86\n"
     ]
    },
    {
     "name": "stderr",
     "output_type": "stream",
     "text": [
      " 89% |################################################################        |\r"
     ]
    },
    {
     "name": "stdout",
     "output_type": "stream",
     "text": [
      "processing TXHA2Zu|TRA_86\n",
      "processing fztYnDT|TRA_86\n",
      "processing 54KfVz7|TRA_86\n",
      "processing KFtJTbD|TRA_87\n",
      "processing UWVYPct|TRA_87\n",
      "processing fztYnDT|TRA_87\n",
      "processing dteMuWC|TRA_87\n",
      "processing"
     ]
    },
    {
     "name": "stderr",
     "output_type": "stream",
     "text": [
      " 90% |#################################################################       |\r"
     ]
    },
    {
     "name": "stdout",
     "output_type": "stream",
     "text": [
      " 54KfVz7|TRA_87\n",
      "processing KFtJTbD|TRA_88\n",
      "processing 6TtKp9w|TRA_88\n",
      "processing LREHkrn|TRA_88\n",
      "processing fztYnDT|TRA_88\n"
     ]
    },
    {
     "name": "stderr",
     "output_type": "stream",
     "text": [
      " 91% |##################################################################      |\r"
     ]
    },
    {
     "name": "stdout",
     "output_type": "stream",
     "text": [
      "processing 4rGdkfj|TRA_88\n",
      "processing WMxqiTT|TRA_88\n",
      "processing UWVYPct|TRA_89\n",
      "processing TXHA2Zu|TRA_89\n",
      "processing dteMuWC|TRA_89\n",
      "processing 4rGdkfj|TRA_89\n",
      "processing KFtJTbD|TRA_9\n",
      "processing 6TtKp9w|TRA_9\n",
      "processing LREHkrn|TRA_9\n",
      "processing dteMuWC|TRA_9\n"
     ]
    },
    {
     "name": "stderr",
     "output_type": "stream",
     "text": [
      " 92% |##################################################################      |\r"
     ]
    },
    {
     "name": "stdout",
     "output_type": "stream",
     "text": [
      "processing KFtJTbD|TRA_90\n",
      "processing 6TtKp9w|TRA_90\n",
      "processing LREHkrn|TRA_90\n",
      "processing fztYnDT|TRA_90\n",
      "processing 54KfVz7|TRA_90\n",
      "processing LREHkrn|TRA_91\n",
      "processing"
     ]
    },
    {
     "name": "stderr",
     "output_type": "stream",
     "text": [
      " 94% |###################################################################     |\r"
     ]
    },
    {
     "name": "stdout",
     "output_type": "stream",
     "text": [
      " TXHA2Zu|TRA_91\n",
      "processing fztYnDT|TRA_91\n",
      "processing 4rGdkfj|TRA_91\n",
      "processing 54KfVz7|TRA_91\n",
      "processing KFtJTbD|TRA_92\n",
      "processing UWVYPct|TRA_92\n",
      "processing 6TtKp9w|TRA_92\n",
      "processing WMxqiTT|TRA_92\n",
      "processing KFtJTbD|TRA_93\n"
     ]
    },
    {
     "name": "stderr",
     "output_type": "stream",
     "text": [
      " 95% |####################################################################    |\r"
     ]
    },
    {
     "name": "stdout",
     "output_type": "stream",
     "text": [
      "processing LREHkrn|TRA_93\n",
      "processing fztYnDT|TRA_93\n",
      "processing dteMuWC|TRA_93\n",
      "processing 54KfVz7|TRA_93\n",
      "processing LREHkrn|TRA_94\n"
     ]
    },
    {
     "name": "stderr",
     "output_type": "stream",
     "text": [
      " 96% |#####################################################################   |\r"
     ]
    },
    {
     "name": "stdout",
     "output_type": "stream",
     "text": [
      "processing fztYnDT|TRA_94\n",
      "processing 4rGdkfj|TRA_94\n",
      "processing WMxqiTT|TRA_94\n",
      "processing KFtJTbD|TRA_95\n",
      "processing UWVYPct|TRA_95\n",
      "processing 6TtKp9w|TRA_95\n",
      "processing TXHA2Zu|TRA_95\n",
      "processing fztYnDT|TRA_95\n",
      "processing dteMuWC|TRA_95\n"
     ]
    },
    {
     "name": "stderr",
     "output_type": "stream",
     "text": [
      " 97% |######################################################################  |\r"
     ]
    },
    {
     "name": "stdout",
     "output_type": "stream",
     "text": [
      "processing LREHkrn|TRA_96\n",
      "processing fztYnDT|TRA_96\n",
      "processing 4rGdkfj|TRA_96\n",
      "processing KFtJTbD|TRA_97\n"
     ]
    },
    {
     "name": "stderr",
     "output_type": "stream",
     "text": [
      " 98% |####################################################################### |\r"
     ]
    },
    {
     "name": "stdout",
     "output_type": "stream",
     "text": [
      "processing UWVYPct|TRA_97\n",
      "processing 6TtKp9w|TRA_97\n",
      "processing TXHA2Zu|TRA_97\n",
      "processing fztYnDT|TRA_98\n",
      "processing 4rGdkfj|TRA_98\n",
      "processing WMxqiTT|TRA_98\n",
      "processing 54KfVz7|TRA_98\n",
      "processing KFtJTbD|TRA_99\n",
      "processing 6TtKp9w|TRA_99\n",
      "processing fztYnDT|TRA_99\n"
     ]
    },
    {
     "name": "stderr",
     "output_type": "stream",
     "text": [
      "100% |########################################################################|\n"
     ]
    },
    {
     "name": "stdout",
     "output_type": "stream",
     "text": [
      "processing 4rGdkfj|TRA_99\n",
      "statistical features created\n"
     ]
    }
   ],
   "source": [
    "driving_style_after = driving_style_extract(driverList=taxiId[0:10],DF=after_covid)"
   ]
  },
  {
   "cell_type": "code",
   "execution_count": 14,
   "metadata": {},
   "outputs": [],
   "source": [
    "Xb = driving_style_before[:,1:]\n",
    "yb = driving_style_before[:,0].astype('int')\n",
    "X_train, X_test, y_train, y_test = train_test_split(Xb, yb.flatten(), test_size=0.33)"
   ]
  },
  {
   "cell_type": "code",
   "execution_count": 104,
   "metadata": {},
   "outputs": [
    {
     "name": "stdout",
     "output_type": "stream",
     "text": [
      "Random forest               precision    recall  f1-score   support\n",
      "\n",
      "           0       0.65      0.49      0.56      4448\n",
      "           1       0.89      0.74      0.81      2698\n",
      "           2       0.87      0.75      0.80      3049\n",
      "           3       0.90      0.69      0.78      1530\n",
      "           4       0.88      0.74      0.81      2701\n",
      "           5       0.82      0.62      0.71      3984\n",
      "           6       0.68      0.72      0.70      9280\n",
      "           7       0.90      0.78      0.84      1747\n",
      "           8       0.87      0.73      0.80      2331\n",
      "           9       0.88      0.75      0.81      2485\n",
      "          10       0.87      0.73      0.79      2405\n",
      "          11       0.88      0.76      0.81      1961\n",
      "          12       0.71      0.77      0.74      8051\n",
      "          13       0.89      0.70      0.78      2017\n",
      "          14       0.55      0.83      0.66     11925\n",
      "          15       0.88      0.82      0.85      2992\n",
      "          16       0.90      0.75      0.82      2203\n",
      "          17       0.90      0.74      0.81      2315\n",
      "          18       0.87      0.77      0.82      1686\n",
      "          19       0.86      0.77      0.81      3273\n",
      "\n",
      "    accuracy                           0.74     73081\n",
      "   macro avg       0.83      0.73      0.78     73081\n",
      "weighted avg       0.77      0.74      0.74     73081\n",
      "\n"
     ]
    },
    {
     "data": {
      "image/png": "[encoded data removed]",
      "text/plain": [
       "<Figure size 360x360 with 2 Axes>"
      ]
     },
     "metadata": {},
     "output_type": "display_data"
    }
   ],
   "source": [
    "plt.style.use('seaborn-white')\n",
    "model=RandomForestClassifier(n_estimators=200)\n",
    "model.fit(X_train, y_train)\n",
    "class_rep = classification_report(y_test, model.predict(X_test))\n",
    "print(\"Random forest\",class_rep)\n",
    "plt.figure(figsize=(5,5)) \n",
    "plot_cm(y_test, model.predict(X_test))\n",
    "plt.show();"
   ]
  },
  {
   "cell_type": "code",
   "execution_count": 15,
   "metadata": {
    "scrolled": false
   },
   "outputs": [
    {
     "name": "stdout",
     "output_type": "stream",
     "text": [
      "Random forest               precision    recall  f1-score   support\n",
      "\n",
      "         0.0       0.84      0.78      0.81      4585\n",
      "         1.0       0.79      0.85      0.82      4497\n",
      "\n",
      "    accuracy                           0.81      9082\n",
      "   macro avg       0.82      0.81      0.81      9082\n",
      "weighted avg       0.82      0.81      0.81      9082\n",
      "\n"
     ]
    },
    {
     "data": {
      "image/png": "[encoded data removed]",
      "text/plain": [
       "<Figure size 360x360 with 2 Axes>"
      ]
     },
     "metadata": {
      "needs_background": "light"
     },
     "output_type": "display_data"
    },
    {
     "name": "stdout",
     "output_type": "stream",
     "text": [
      "After Covid-19:\n",
      "0.6023336909870844\n",
      "Random forest               precision    recall  f1-score   support\n",
      "\n",
      "         0.0       0.91      0.71      0.80      2733\n",
      "         1.0       0.76      0.93      0.84      2695\n",
      "\n",
      "    accuracy                           0.82      5428\n",
      "   macro avg       0.84      0.82      0.82      5428\n",
      "weighted avg       0.84      0.82      0.82      5428\n",
      "\n"
     ]
    },
    {
     "data": {
      "image/png": "[encoded data removed]",
      "text/plain": [
       "<Figure size 432x288 with 1 Axes>"
      ]
     },
     "metadata": {
      "needs_background": "light"
     },
     "output_type": "display_data"
    },
    {
     "data": {
      "image/png": "[encoded data removed]",
      "text/plain": [
       "<Figure size 360x360 with 2 Axes>"
      ]
     },
     "metadata": {
      "needs_background": "light"
     },
     "output_type": "display_data"
    },
    {
     "name": "stdout",
     "output_type": "stream",
     "text": [
      "After Covid-19:\n",
      "0.6150390625000061\n",
      "Random forest               precision    recall  f1-score   support\n",
      "\n",
      "         0.0       0.91      0.71      0.80      3107\n",
      "         1.0       0.76      0.93      0.84      3124\n",
      "\n",
      "    accuracy                           0.82      6231\n",
      "   macro avg       0.83      0.82      0.82      6231\n",
      "weighted avg       0.83      0.82      0.82      6231\n",
      "\n"
     ]
    },
    {
     "data": {
      "image/png": "[encoded data removed]",
      "text/plain": [
       "<Figure size 432x288 with 1 Axes>"
      ]
     },
     "metadata": {
      "needs_background": "light"
     },
     "output_type": "display_data"
    },
    {
     "data": {
      "image/png": "[encoded data removed]",
      "text/plain": [
       "<Figure size 360x360 with 2 Axes>"
      ]
     },
     "metadata": {
      "needs_background": "light"
     },
     "output_type": "display_data"
    },
    {
     "name": "stdout",
     "output_type": "stream",
     "text": [
      "After Covid-19:\n",
      "0.6467803030303192\n",
      "Random forest               precision    recall  f1-score   support\n",
      "\n",
      "         0.0       0.93      0.73      0.81      1547\n",
      "         1.0       0.77      0.94      0.85      1526\n",
      "\n",
      "    accuracy                           0.83      3073\n",
      "   macro avg       0.85      0.83      0.83      3073\n",
      "weighted avg       0.85      0.83      0.83      3073\n",
      "\n"
     ]
    },
    {
     "data": {
      "image/png": "[encoded data removed]",
      "text/plain": [
       "<Figure size 432x288 with 1 Axes>"
      ]
     },
     "metadata": {
      "needs_background": "light"
     },
     "output_type": "display_data"
    },
    {
     "data": {
      "image/png": "[encoded data removed]",
      "text/plain": [
       "<Figure size 360x360 with 2 Axes>"
      ]
     },
     "metadata": {
      "needs_background": "light"
     },
     "output_type": "display_data"
    },
    {
     "name": "stdout",
     "output_type": "stream",
     "text": [
      "After Covid-19:\n",
      "0.5764285714285665\n",
      "Random forest               precision    recall  f1-score   support\n",
      "\n",
      "         0.0       0.92      0.69      0.79      2676\n",
      "         1.0       0.75      0.94      0.84      2668\n",
      "\n",
      "    accuracy                           0.81      5344\n",
      "   macro avg       0.84      0.82      0.81      5344\n",
      "weighted avg       0.84      0.81      0.81      5344\n",
      "\n"
     ]
    },
    {
     "data": {
      "image/png": "[encoded data removed]",
      "text/plain": [
       "<Figure size 432x288 with 1 Axes>"
      ]
     },
     "metadata": {
      "needs_background": "light"
     },
     "output_type": "display_data"
    },
    {
     "data": {
      "image/png": "[encoded data removed]",
      "text/plain": [
       "<Figure size 360x360 with 2 Axes>"
      ]
     },
     "metadata": {
      "needs_background": "light"
     },
     "output_type": "display_data"
    },
    {
     "name": "stdout",
     "output_type": "stream",
     "text": [
      "After Covid-19:\n",
      "0.5888918067227246\n",
      "Random forest               precision    recall  f1-score   support\n",
      "\n",
      "         0.0       0.78      0.83      0.81      3934\n",
      "         1.0       0.83      0.78      0.80      4092\n",
      "\n",
      "    accuracy                           0.80      8026\n",
      "   macro avg       0.81      0.81      0.80      8026\n",
      "weighted avg       0.81      0.80      0.80      8026\n",
      "\n"
     ]
    },
    {
     "data": {
      "image/png": "[encoded data removed]",
      "text/plain": [
       "<Figure size 432x288 with 1 Axes>"
      ]
     },
     "metadata": {
      "needs_background": "light"
     },
     "output_type": "display_data"
    },
    {
     "data": {
      "image/png": "[encoded data removed]",
      "text/plain": [
       "<Figure size 360x360 with 2 Axes>"
      ]
     },
     "metadata": {
      "needs_background": "light"
     },
     "output_type": "display_data"
    },
    {
     "name": "stdout",
     "output_type": "stream",
     "text": [
      "After Covid-19:\n",
      "0.6258882428939833\n",
      "Random forest               precision    recall  f1-score   support\n",
      "\n",
      "         0.0       0.86      0.79      0.82      9283\n",
      "         1.0       0.80      0.88      0.84      9229\n",
      "\n",
      "    accuracy                           0.83     18512\n",
      "   macro avg       0.83      0.83      0.83     18512\n",
      "weighted avg       0.83      0.83      0.83     18512\n",
      "\n"
     ]
    },
    {
     "data": {
      "image/png": "[encoded data removed]",
      "text/plain": [
       "<Figure size 432x288 with 1 Axes>"
      ]
     },
     "metadata": {
      "needs_background": "light"
     },
     "output_type": "display_data"
    },
    {
     "data": {
      "image/png": "[encoded data removed]",
      "text/plain": [
       "<Figure size 360x360 with 2 Axes>"
      ]
     },
     "metadata": {
      "needs_background": "light"
     },
     "output_type": "display_data"
    },
    {
     "name": "stdout",
     "output_type": "stream",
     "text": [
      "After Covid-19:\n",
      "0.6570060483870833\n",
      "Random forest               precision    recall  f1-score   support\n",
      "\n",
      "         0.0       0.95      0.72      0.82      1695\n",
      "         1.0       0.77      0.96      0.86      1685\n",
      "\n",
      "    accuracy                           0.84      3380\n",
      "   macro avg       0.86      0.84      0.84      3380\n",
      "weighted avg       0.86      0.84      0.84      3380\n",
      "\n"
     ]
    },
    {
     "data": {
      "image/png": "[encoded data removed]",
      "text/plain": [
       "<Figure size 432x288 with 1 Axes>"
      ]
     },
     "metadata": {
      "needs_background": "light"
     },
     "output_type": "display_data"
    },
    {
     "data": {
      "image/png": "[encoded data removed]",
      "text/plain": [
       "<Figure size 360x360 with 2 Axes>"
      ]
     },
     "metadata": {
      "needs_background": "light"
     },
     "output_type": "display_data"
    },
    {
     "name": "stdout",
     "output_type": "stream",
     "text": [
      "After Covid-19:\n",
      "0.6917148362235493\n",
      "Random forest               precision    recall  f1-score   support\n",
      "\n",
      "         0.0       0.90      0.65      0.75      2333\n",
      "         1.0       0.72      0.93      0.81      2261\n",
      "\n",
      "    accuracy                           0.78      4594\n",
      "   macro avg       0.81      0.79      0.78      4594\n",
      "weighted avg       0.81      0.78      0.78      4594\n",
      "\n"
     ]
    },
    {
     "data": {
      "image/png": "[encoded data removed]",
      "text/plain": [
       "<Figure size 432x288 with 1 Axes>"
      ]
     },
     "metadata": {
      "needs_background": "light"
     },
     "output_type": "display_data"
    },
    {
     "data": {
      "image/png": "[encoded data removed]",
      "text/plain": [
       "<Figure size 360x360 with 2 Axes>"
      ]
     },
     "metadata": {
      "needs_background": "light"
     },
     "output_type": "display_data"
    },
    {
     "name": "stdout",
     "output_type": "stream",
     "text": [
      "After Covid-19:\n",
      "0.683223684210564\n",
      "Random forest               precision    recall  f1-score   support\n",
      "\n",
      "         0.0       0.91      0.71      0.79      2349\n",
      "         1.0       0.76      0.93      0.84      2403\n",
      "\n",
      "    accuracy                           0.82      4752\n",
      "   macro avg       0.83      0.82      0.82      4752\n",
      "weighted avg       0.83      0.82      0.82      4752\n",
      "\n"
     ]
    },
    {
     "data": {
      "image/png": "[encoded data removed]",
      "text/plain": [
       "<Figure size 432x288 with 1 Axes>"
      ]
     },
     "metadata": {
      "needs_background": "light"
     },
     "output_type": "display_data"
    },
    {
     "data": {
      "image/png": "[encoded data removed]",
      "text/plain": [
       "<Figure size 360x360 with 2 Axes>"
      ]
     },
     "metadata": {
      "needs_background": "light"
     },
     "output_type": "display_data"
    },
    {
     "name": "stdout",
     "output_type": "stream",
     "text": [
      "After Covid-19:\n",
      "0.7934782608694068\n"
     ]
    },
    {
     "data": {
      "image/png": "[encoded data removed]",
      "text/plain": [
       "<Figure size 432x288 with 1 Axes>"
      ]
     },
     "metadata": {
      "needs_background": "light"
     },
     "output_type": "display_data"
    }
   ],
   "source": [
    "drv_before = driving_style_before\n",
    "drv_after = driving_style_after\n",
    "driver_IDs = np.unique(drv_before[:,0])\n",
    "for driver in driver_IDs:    \n",
    "    drv = drv_before[drv_before[:,0]==driver]\n",
    "    drv[:,0] = 1\n",
    "    other = drv_before[drv_before[:,0]!=driver]\n",
    "    select = np.random.choice(other.shape[0],size=drv.shape[0],replace=False)\n",
    "    sub_other = other[select,:]\n",
    "    sub_other[:,0] = 0\n",
    "    dataSet = np.vstack ((drv,sub_other))\n",
    "    X_train, X_test, y_train, y_test = train_test_split(dataSet[:,1:], dataSet[:,0], test_size=0.33)\n",
    "    model=RandomForestClassifier(n_estimators=200)\n",
    "    model.fit(X_train, y_train)\n",
    "    class_rep = classification_report(y_test, model.predict(X_test))\n",
    "    print(\"Random forest\",class_rep)\n",
    "    plt.figure(figsize=(5,5)) \n",
    "    plot_cm(y_test, model.predict(X_test))\n",
    "    plt.show()\n",
    "    p = model.predict_proba(X_test)[:,1]\n",
    "    ## Predicted probabilities for the label of 0\n",
    "    #1-p=logit_classifier.predict_proba(X_test)[:,0]\n",
    "    tpr=roc_curve(y_test,p)[0] # True Positive rate\n",
    "    fpr=roc_curve(y_test,p)[1] # False Positive rate\n",
    "    AUC=auc(tpr,fpr)\n",
    "    ROC(tpr,fpr,AUC)\n",
    "    print(\"After Covid-19:\")\n",
    "    drv = drv_after[drv_after[:,0]==driver]   \n",
    "    print(sum(model.predict(drv[:,1:])/len(model.predict(drv[:,1:]))));    "
   ]
  }
 ],
 "metadata": {
  "kernelspec": {
   "display_name": "Python 3",
   "language": "python",
   "name": "python3"
  },
  "language_info": {
   "codemirror_mode": {
    "name": "ipython",
    "version": 3
   },
   "file_extension": ".py",
   "mimetype": "text/x-python",
   "name": "python",
   "nbconvert_exporter": "python",
   "pygments_lexer": "ipython3",
   "version": "3.7.4"
  }
 },
 "nbformat": 4,
 "nbformat_minor": 2
}
